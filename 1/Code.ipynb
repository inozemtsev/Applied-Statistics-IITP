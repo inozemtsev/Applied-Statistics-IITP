{
 "metadata": {
  "name": "",
  "signature": "sha256:704036dca786813c2ad4d2dea28568464d18207c524aa6db8c7c17ca2533b763"
 },
 "nbformat": 3,
 "nbformat_minor": 0,
 "worksheets": [
  {
   "cells": [
    {
     "cell_type": "markdown",
     "metadata": {},
     "source": [
      "# Approximation of Pressure distribution on airfoils\n",
      "\n",
      "In this example we demonstrate:\n",
      "    \n",
      "* Basic data loading and splitting\n",
      "* Construction of surrogate models with multiple inputs/outputs\n",
      "* Basic analysis of results\n",
      "\n",
      "__Notes__:\n",
      "\n",
      "* Approximation is based on real database of airfoils\n",
      "* We seek to approximate the pressure distribution given an airfoil shape\n",
      "* One can also solve inverse problem (i.e. approximate airfoil shape given desired pressure distribution)\n"
     ]
    },
    {
     "cell_type": "markdown",
     "metadata": {},
     "source": [
      "0) Imports\n",
      "----------"
     ]
    },
    {
     "cell_type": "code",
     "collapsed": false,
     "input": [
      "# import of MACROS Approximation module\n",
      "from da.macros import gtapprox, loggers, gtdr \n",
      "# inport of auxiliraly module (for graphics), used only in this tutorials for simplification\n",
      "import tutorials.gtapprox as aux \n",
      "import numpy as np\n",
      "import csv,sys\n",
      "from matplotlib import pyplot as plt\n",
      "from matplotlib import cm\n"
     ],
     "language": "python",
     "metadata": {},
     "outputs": [],
     "prompt_number": 23
    },
    {
     "cell_type": "markdown",
     "metadata": {},
     "source": [
      "## 1) Loading data\n",
      "\n",
      "__TODO__:\n",
      "\n",
      "* Specify path to data (_data/approx_pressure_distribution_X57_Y57_)\n",
      "* Load the data into variable\n",
      "* Determine the shape of the data (**shape** command)"
     ]
    },
    {
     "cell_type": "code",
     "collapsed": false,
     "input": [
      "datas = []\n",
      "with open ('approx_pressure_distribution_X57_Y57.csv', 'rb') as f:\n",
      "    reader = csv.reader (f, delimiter='\\t')\n",
      "    for r in reader:\n",
      "        datas.append (r)\n",
      "datas = np.array (datas)\n",
      "datas = np.delete (datas, 0, axis=0)\n",
      "data = np.array (datas, dtype='float64')\n",
      "# print data"
     ],
     "language": "python",
     "metadata": {},
     "outputs": [],
     "prompt_number": 24
    },
    {
     "cell_type": "markdown",
     "metadata": {},
     "source": [
      "## 2) Specify inputs / outputs\n",
      "\n",
      "__TODO__:\n",
      "\n",
      "* Put the first 57 columns to __inputs__\n",
      "* Put the last 57 columns to __outputs__\n",
      "* Ensure sizes of __inputs__ and __outputs__ are equal (not that everything starts from 0 in Python)\n",
      "* Split dataset to test and train: __train_x__, __train_y__, __test_x__, __test_y__ (use any two airfoils for test)\n",
      "\n",
      "\n",
      "_Hint: To split the dataset you need to perform slicing like X[:, :10] - which means that you take all rows and 10 first columns from X_"
     ]
    },
    {
     "cell_type": "code",
     "collapsed": false,
     "input": [
      "inputs =np.array (data[:,:57])\n",
      "outputs = np.array(data[:,57:])\n",
      "# print 'inputs.shape: ', inputs.shape\n",
      "# print 'outputs.shape: ', outputs.shape\n",
      "train_x = np.array([inputs[x] for x in range(inputs.shape[0]) if x not in {5,10}])\n",
      "train_y = np.array([outputs[x] for x in range(outputs.shape[0]) if x not in {5,10}])\n",
      "test_x = np.array([inputs[5], inputs[10]])\n",
      "test_y = np.array([outputs[5], outputs[10]])\n",
      "print 'train_x.shape: ',train_x.shape\n",
      "print 'train_y.shape: ',train_y.shape\n",
      "print 'test_x.shape: ',test_x.shape\n",
      "print 'test_y.shape: ',test_y.shape\n"
     ],
     "language": "python",
     "metadata": {},
     "outputs": [
      {
       "output_type": "stream",
       "stream": "stdout",
       "text": [
        "train_x.shape:  (204L, 57L)\n",
        "train_y.shape:  (204L, 57L)\n",
        "test_x.shape:  (2L, 57L)\n",
        "test_y.shape:  (2L, 57L)\n"
       ]
      }
     ],
     "prompt_number": 25
    },
    {
     "cell_type": "markdown",
     "metadata": {},
     "source": [
      "3) Build approx model\n",
      "---------------------\n",
      "\n",
      "__TODO__:\n",
      "\n",
      "* Create __gtapprox.Builder()__\n",
      "* Specify the logger\n",
      "* Create model using __build__ function of __Builder__ and providing train set\n",
      "\n",
      "_Hint: Use option  {'GTApprox/Technique': 'HDA'} for faster execution_"
     ]
    },
    {
     "cell_type": "code",
     "collapsed": false,
     "input": [
      "builder = gtapprox.Builder()\n",
      "builder.set_logger(loggers.StreamLogger(sys.stdout))\n",
      "builder.options.set({'GTApprox/LogLevel': 'Info', 'GTApprox/Technique': 'HDA'})\n",
      "model = builder.build (train_x, train_y)"
     ],
     "language": "python",
     "metadata": {},
     "outputs": [
      {
       "output_type": "stream",
       "stream": "stdout",
       "text": [
        "    Build stamp information:\n"
       ]
      },
      {
       "output_type": "stream",
       "stream": "stdout",
       "text": [
        "    BuildStamp: date=2014-09-18 17:45:59; public_version=3.4; revision=39882 -DCM_BS_BUILD_TYPE=Release -DCM_BS_BUILDER_INFO=manual@EVIL; version=3.4.400; \n"
       ]
      },
      {
       "output_type": "stream",
       "stream": "stdout",
       "text": [
        "    OpenMP Threads max is: 4\n"
       ]
      },
      {
       "output_type": "stream",
       "stream": "stdout",
       "text": [
        "    \n",
        "\n",
        "The following options are specified:\n"
       ]
      },
      {
       "output_type": "stream",
       "stream": "stdout",
       "text": [
        "    GTApprox/LogLevel: Info\n"
       ]
      },
      {
       "output_type": "stream",
       "stream": "stdout",
       "text": [
        "    GTApprox/Technique: HDA\n"
       ]
      },
      {
       "output_type": "stream",
       "stream": "stdout",
       "text": [
        "    \n",
        "\n",
        "The following options are specified for internal approximation builder:\n"
       ]
      },
      {
       "output_type": "stream",
       "stream": "stdout",
       "text": [
        "    GTApprox/LogLevel: Info\n"
       ]
      },
      {
       "output_type": "stream",
       "stream": "stdout",
       "text": [
        "    GTApprox/Technique: HDA\n"
       ]
      },
      {
       "output_type": "stream",
       "stream": "stdout",
       "text": [
        "    \n",
        "\n",
        "Checking input data and options...\n"
       ]
      },
      {
       "output_type": "stream",
       "stream": "stdout",
       "text": [
        "    Effective input size: 57\n"
       ]
      },
      {
       "output_type": "stream",
       "stream": "stdout",
       "text": [
        "    Effective output size: 57\n"
       ]
      },
      {
       "output_type": "stream",
       "stream": "stdout",
       "text": [
        "    Duplicate samples: 0\n"
       ]
      },
      {
       "output_type": "stream",
       "stream": "stdout",
       "text": [
        "    \n",
        "\n",
        "Choosing the appropriate approximation technique...\n"
       ]
      },
      {
       "output_type": "stream",
       "stream": "stdout",
       "text": [
        "    Approximation technique selected manually: 'HDA'.\n"
       ]
      },
      {
       "output_type": "stream",
       "stream": "stdout",
       "text": [
        "    \n",
        "\n",
        "Building Approximation...\n"
       ]
      },
      {
       "output_type": "stream",
       "stream": "stdout",
       "text": [
        "    Adjusted Acceleration for HDA :: GTApprox/Accelerator: 1 (assume small sample)\n"
       ]
      },
      {
       "output_type": "stream",
       "stream": "stdout",
       "text": [
        "    Creating HDA approximator...\n"
       ]
      },
      {
       "output_type": "stream",
       "stream": "stdout",
       "text": [
        "    Start training HDA on dataset [204, 57+57]\n"
       ]
      },
      {
       "output_type": "stream",
       "stream": "stdout",
       "text": [
        "    Evaluating input dataset...\n"
       ]
      },
      {
       "output_type": "stream",
       "stream": "stdout",
       "text": [
        "    Complexity range updated to [0, 15]\n"
       ]
      },
      {
       "output_type": "stream",
       "stream": "stdout",
       "text": [
        "    Estimating the complexity: p=0...\n"
       ]
      },
      {
       "output_type": "stream",
       "stream": "stdout",
       "text": [
        "    Scaled RMSE with complexity p=0 is 0.038397 - ACCEPTED\n"
       ]
      },
      {
       "output_type": "stream",
       "stream": "stdout",
       "text": [
        "    Estimating the complexity: p=2...\n"
       ]
      },
      {
       "output_type": "stream",
       "stream": "stdout",
       "text": [
        "    Scaled RMSE with complexity p=2 is 0.0418239 - REJECTED\n"
       ]
      },
      {
       "output_type": "stream",
       "stream": "stdout",
       "text": [
        "    Estimating the complexity: p=4...\n"
       ]
      },
      {
       "output_type": "stream",
       "stream": "stdout",
       "text": [
        "    Scaled RMSE with complexity p=4 is 0.0385288 - REJECTED\n"
       ]
      },
      {
       "output_type": "stream",
       "stream": "stdout",
       "text": [
        "    Estimating the complexity: p=8...\n"
       ]
      },
      {
       "output_type": "stream",
       "stream": "stdout",
       "text": [
        "    Scaled RMSE with complexity p=8 is 0.03788 - ACCEPTED\n"
       ]
      },
      {
       "output_type": "stream",
       "stream": "stdout",
       "text": [
        "    Estimating the complexity: p=15...\n"
       ]
      },
      {
       "output_type": "stream",
       "stream": "stdout",
       "text": [
        "    Scaled RMSE with complexity p=15 is 0.031238 - ACCEPTED\n"
       ]
      },
      {
       "output_type": "stream",
       "stream": "stdout",
       "text": [
        "    Accurate testing of the Basic Approximator with complexity p=9...\n"
       ]
      },
      {
       "output_type": "stream",
       "stream": "stdout",
       "text": [
        "    Scaled RMSE with complexity p=9 is 0.0399282 - REJECTED\n"
       ]
      },
      {
       "output_type": "stream",
       "stream": "stdout",
       "text": [
        "    Accurate testing of the Basic Approximator with complexity p=11...\n"
       ]
      },
      {
       "output_type": "stream",
       "stream": "stdout",
       "text": [
        "    Scaled RMSE with complexity p=11 is 0.0416987 - REJECTED\n"
       ]
      },
      {
       "output_type": "stream",
       "stream": "stdout",
       "text": [
        "    Accurate testing of the Basic Approximator with complexity p=14...\n"
       ]
      },
      {
       "output_type": "stream",
       "stream": "stdout",
       "text": [
        "    Scaled RMSE with complexity p=14 is 0.0347895 - REJECTED\n"
       ]
      },
      {
       "output_type": "stream",
       "stream": "stdout",
       "text": [
        "    Optimal complexity is 15, mean RMSE/Std is 0.0741671\n"
       ]
      },
      {
       "output_type": "stream",
       "stream": "stdout",
       "text": [
        "    Training phase #9\n"
       ]
      },
      {
       "output_type": "stream",
       "stream": "stdout",
       "text": [
        "    RMSE/Std for approximator #1 is 0.074167079\n"
       ]
      },
      {
       "output_type": "stream",
       "stream": "stdout",
       "text": [
        "    Training approximator #2\n"
       ]
      },
      {
       "output_type": "stream",
       "stream": "stdout",
       "text": [
        "    RMSE/Std for approximator #2 is 0.083809622\n"
       ]
      },
      {
       "output_type": "stream",
       "stream": "stdout",
       "text": [
        "    Training approximator #3\n"
       ]
      },
      {
       "output_type": "stream",
       "stream": "stdout",
       "text": [
        "    RMSE/Std for approximator #3 is 0.081476206\n"
       ]
      },
      {
       "output_type": "stream",
       "stream": "stdout",
       "text": [
        "    Training approximator #4\n"
       ]
      },
      {
       "output_type": "stream",
       "stream": "stdout",
       "text": [
        "    RMSE/Std for approximator #4 is 0.086043953\n"
       ]
      },
      {
       "output_type": "stream",
       "stream": "stdout",
       "text": [
        "    Training approximator #5\n"
       ]
      },
      {
       "output_type": "stream",
       "stream": "stdout",
       "text": [
        "    RMSE/Std for approximator #5 is 0.090177238\n"
       ]
      },
      {
       "output_type": "stream",
       "stream": "stdout",
       "text": [
        "    Building optimal tuple of approximators...\n"
       ]
      },
      {
       "output_type": "stream",
       "stream": "stdout",
       "text": [
        "    RMSE/Std of tuple of 1 approximators: 0.0741671\n"
       ]
      },
      {
       "output_type": "stream",
       "stream": "stdout",
       "text": [
        "    Training approximator #6\n"
       ]
      },
      {
       "output_type": "stream",
       "stream": "stdout",
       "text": [
        "    RMSE/Std for approximator #6 is 0.085671291\n"
       ]
      },
      {
       "output_type": "stream",
       "stream": "stdout",
       "text": [
        "    Optimal approximators tuple size is 1\n"
       ]
      },
      {
       "output_type": "stream",
       "stream": "stdout",
       "text": [
        "    RMSE/Std of current approximator is 0.0741671\n"
       ]
      },
      {
       "output_type": "stream",
       "stream": "stdout",
       "text": [
        "    Training phase #10\n"
       ]
      },
      {
       "output_type": "stream",
       "stream": "stdout",
       "text": [
        "    Training approximator #1\n"
       ]
      },
      {
       "output_type": "stream",
       "stream": "stdout",
       "text": [
        "    RMSE/Std for approximator #1 is 0.1517567\n"
       ]
      },
      {
       "output_type": "stream",
       "stream": "stdout",
       "text": [
        "    Training approximator #2\n"
       ]
      },
      {
       "output_type": "stream",
       "stream": "stdout",
       "text": [
        "    RMSE/Std for approximator #2 is 0.14342265\n"
       ]
      },
      {
       "output_type": "stream",
       "stream": "stdout",
       "text": [
        "    Training approximator #3\n"
       ]
      },
      {
       "output_type": "stream",
       "stream": "stdout",
       "text": [
        "    RMSE/Std for approximator #3 is 0.14459146\n"
       ]
      },
      {
       "output_type": "stream",
       "stream": "stdout",
       "text": [
        "    Training approximator #4\n"
       ]
      },
      {
       "output_type": "stream",
       "stream": "stdout",
       "text": [
        "    RMSE/Std for approximator #4 is 0.15339725\n"
       ]
      },
      {
       "output_type": "stream",
       "stream": "stdout",
       "text": [
        "    Training approximator #5\n"
       ]
      },
      {
       "output_type": "stream",
       "stream": "stdout",
       "text": [
        "    RMSE/Std for approximator #5 is 0.14912459\n"
       ]
      },
      {
       "output_type": "stream",
       "stream": "stdout",
       "text": [
        "    Building optimal tuple of approximators...\n"
       ]
      },
      {
       "output_type": "stream",
       "stream": "stdout",
       "text": [
        "    RMSE/Std of tuple of 1 approximators: 0.143423\n"
       ]
      },
      {
       "output_type": "stream",
       "stream": "stdout",
       "text": [
        "    Training approximator #6\n"
       ]
      },
      {
       "output_type": "stream",
       "stream": "stdout",
       "text": [
        "    RMSE/Std for approximator #6 is 0.14753898\n"
       ]
      },
      {
       "output_type": "stream",
       "stream": "stdout",
       "text": [
        "    Optimal approximators tuple size is 1\n"
       ]
      },
      {
       "output_type": "stream",
       "stream": "stdout",
       "text": [
        "    RMSE/Std of current approximator is 0.0784476\n"
       ]
      },
      {
       "output_type": "stream",
       "stream": "stdout",
       "text": [
        "    RMSE/Std of tuple of 1 approximators: 0.0741671\n"
       ]
      },
      {
       "output_type": "stream",
       "stream": "stdout",
       "text": [
        "    HDA approximator successfully created\n"
       ]
      }
     ],
     "prompt_number": 26
    },
    {
     "cell_type": "markdown",
     "metadata": {},
     "source": [
      "## 4) Calculate errors on test set\n",
      "\n",
      "__TODO__:\n",
      "\n",
      "* Calculate mean absolute error on the __train_x__, __train_y__\n",
      "* Calculate mean absolute error on the __test_x__, __test_y__\n",
      "\n",
      "*Hint: Use abs and mean commands from numpy*"
     ]
    },
    {
     "cell_type": "code",
     "collapsed": false,
     "input": [
      "train_prediction = model.calc (train_x)\n",
      "print 'MAE/Train: ', np.mean(np.sum(np.abs(train_prediction-train_y),axis=1))\n",
      "\n",
      "test_prediction = model.calc (test_x)\n",
      "print 'MAE/Test: ', np.mean(np.sum(np.abs(test_prediction-test_y),axis=1))"
     ],
     "language": "python",
     "metadata": {},
     "outputs": [
      {
       "output_type": "stream",
       "stream": "stdout",
       "text": [
        "MAE/Train:  0.297091192142\n",
        "MAE/Test:  0.45701515161\n"
       ]
      }
     ],
     "prompt_number": 27
    },
    {
     "cell_type": "markdown",
     "metadata": {},
     "source": [
      "## 5) Visualize the results"
     ]
    },
    {
     "cell_type": "code",
     "collapsed": false,
     "input": [
      "aux.airfoil_plotting(test_x, test_y, model.calc(test_x))"
     ],
     "language": "python",
     "metadata": {},
     "outputs": [
      {
       "output_type": "stream",
       "stream": "stdout",
       "text": [
        "Visualizing airfoils and pressure distributions (original and approximated) on test set\n",
        "Plot is saved to C:\\Users\\\ufffd\ufffd\ufffd\ufffd\ufffd\\SkyDrive\\Docs\\iitp_stat_2014\\Labs\\1\\tutorial_approx_airfoil_pressure.png"
       ]
      },
      {
       "output_type": "stream",
       "stream": "stdout",
       "text": [
        "\n"
       ]
      }
     ],
     "prompt_number": 28
    },
    {
     "cell_type": "markdown",
     "metadata": {},
     "source": [
      "---\n",
      "## 6) Dimension reduction\n",
      "\n",
      "TODO:\n",
      "\n",
      "\n",
      "* Apply **gtdr** to reduce dimensionality of inputs and/or outputs\n",
      "* Construct approximations in reduced space\n",
      "* Compare errors of approximation on test sample (in original space!!!)"
     ]
    },
    {
     "cell_type": "code",
     "collapsed": false,
     "input": [
      "def reduce_dim (dim,inputs=None, outputs=None):\n",
      "    dr_builder = gtdr.Builder()\n",
      "    dr_model = dr_builder.build (x=inputs, y=outputs, dim=dim)\n",
      "    new_input = new_output = []\n",
      "    if inputs is not None:\n",
      "        new_input = dr_model.compress (inputs)\n",
      "    if outputs is not None:\n",
      "        new_output = dr_model.compress (outputs)\n",
      "    return {'model':dr_model, 'input':new_input, 'output':new_output}\n",
      "\n",
      "def get_data (inputs, outputs, test_samples):\n",
      "    train_x = np.array([inputs[x] for x in range(inputs.shape[0]) if x not in test_samples])\n",
      "    train_y = np.array([outputs[x] for x in range(outputs.shape[0]) if x not in test_samples])\n",
      "    test_x = np.array([inputs[x] for x in range(inputs.shape[0]) if x in test_samples])\n",
      "    test_y = np.array([outputs[x] for x in range(outputs.shape[0]) if x in test_samples])\n",
      "    return [train_x, train_y, test_x, test_y]\n",
      "\n",
      "def mae (a,b):\n",
      "    return np.mean(np.sum(np.abs(a-b),axis=1))\n",
      "\n",
      "def approx (log = 'Fatal', tech='HDA'):\n",
      "    builder = gtapprox.Builder()\n",
      "    builder.set_logger(loggers.StreamLogger(sys.stdout))\n",
      "    builder.options.set({'GTApprox/LogLevel': log, 'GTApprox/Technique': tech})\n",
      "    model = builder.build (train_x, train_y)\n",
      "\n",
      "    train_prediction = model.calc (train_x)\n",
      "    test_prediction = model.calc (test_x)\n",
      "    return [train_prediction, test_prediction]\n",
      "\n",
      "def my_plot (x,y1, xlabel,ylabel,title,filename):\n",
      "    f = plt.figure ()\n",
      "    ax = f.add_subplot (111)\n",
      "    ax.set_title (title)\n",
      "    ax.set_xlabel (xlabel)\n",
      "    ax.set_ylabel (ylabel)\n",
      "    plt.plot (x, y1, c='r')\n",
      "    if y2 is not None:\n",
      "        plt.plot (x, y2, c='b')\n",
      "    f.savefig (filename)\n",
      "    \n",
      "    "
     ],
     "language": "python",
     "metadata": {},
     "outputs": [],
     "prompt_number": 41
    },
    {
     "cell_type": "code",
     "collapsed": false,
     "input": [
      "print '-----------------------Inputs dimension reduction----------------'\n",
      "graph = []\n",
      "new_data = []\n",
      "indices = range (1,58,3)\n",
      "for i in indices:\n",
      "    out = reduce_dim (i,inputs)\n",
      "    new_data.append (out)\n",
      "    graph.append (mae(out['model'].decompress(out['input']),inputs))\n",
      "    print i, graph[-1]"
     ],
     "language": "python",
     "metadata": {},
     "outputs": [
      {
       "output_type": "stream",
       "stream": "stdout",
       "text": [
        "-----------------------Inputs dimension reduction----------------\n",
        "1"
       ]
      },
      {
       "output_type": "stream",
       "stream": "stdout",
       "text": [
        " 0.116629525885\n",
        "4"
       ]
      },
      {
       "output_type": "stream",
       "stream": "stdout",
       "text": [
        " 0.0281199958438\n",
        "7"
       ]
      },
      {
       "output_type": "stream",
       "stream": "stdout",
       "text": [
        " 0.010378564081\n",
        "10"
       ]
      },
      {
       "output_type": "stream",
       "stream": "stdout",
       "text": [
        " 0.00351780108346\n",
        "13"
       ]
      },
      {
       "output_type": "stream",
       "stream": "stdout",
       "text": [
        " 0.00299583529606\n",
        "16"
       ]
      },
      {
       "output_type": "stream",
       "stream": "stdout",
       "text": [
        " 0.00125087758202\n",
        "19"
       ]
      },
      {
       "output_type": "stream",
       "stream": "stdout",
       "text": [
        " 0.000968507788585\n",
        "22"
       ]
      },
      {
       "output_type": "stream",
       "stream": "stdout",
       "text": [
        " 0.000854585985675\n",
        "25"
       ]
      },
      {
       "output_type": "stream",
       "stream": "stdout",
       "text": [
        " 0.000630757932283\n",
        "28"
       ]
      },
      {
       "output_type": "stream",
       "stream": "stdout",
       "text": [
        " 0.000335635407701\n",
        "31"
       ]
      },
      {
       "output_type": "stream",
       "stream": "stdout",
       "text": [
        " 0.000202988294836\n",
        "34"
       ]
      },
      {
       "output_type": "stream",
       "stream": "stdout",
       "text": [
        " 0.000158496789019\n",
        "37"
       ]
      },
      {
       "output_type": "stream",
       "stream": "stdout",
       "text": [
        " 0.000154488636219\n",
        "40"
       ]
      },
      {
       "output_type": "stream",
       "stream": "stdout",
       "text": [
        " 8.05860946418e-05\n",
        "43"
       ]
      },
      {
       "output_type": "stream",
       "stream": "stdout",
       "text": [
        " 6.43682082774e-05\n",
        "46"
       ]
      },
      {
       "output_type": "stream",
       "stream": "stdout",
       "text": [
        " 5.46400176661e-05\n",
        "49"
       ]
      },
      {
       "output_type": "stream",
       "stream": "stdout",
       "text": [
        " 3.75145115023e-05\n",
        "52"
       ]
      },
      {
       "output_type": "stream",
       "stream": "stdout",
       "text": [
        " 2.24966010487e-05\n",
        "55"
       ]
      },
      {
       "output_type": "stream",
       "stream": "stdout",
       "text": [
        " 7.84148301556e-06\n"
       ]
      }
     ],
     "prompt_number": 32
    },
    {
     "cell_type": "code",
     "collapsed": false,
     "input": [
      "my_plot (indices, graph, 'dim', 'MAE', 'MAE/dimension', 'input_dimension_reduction.png')"
     ],
     "language": "python",
     "metadata": {},
     "outputs": [],
     "prompt_number": 33
    },
    {
     "cell_type": "code",
     "collapsed": false,
     "input": [
      "print '-------------------------Approximation (reduced input)-----------------'\n",
      "mae_train = []\n",
      "mae_test = []\n",
      "for d in new_data:\n",
      "    [train_x, train_y, test_x, test_y] = get_data (d['input'], outputs, {5,10})\n",
      "    print 'Compressed_dim of input: ',d['model'].compressed_dim\n",
      "    [train_prediction, test_prediction] = approx ()\n",
      "    mae_train.append (mae (train_prediction,train_y))\n",
      "    mae_test.append (mae (test_prediction, test_y))\n",
      "    print 'MAE/Train: ', mae_train[-1]\n",
      "    print 'MAE/Test: ', mae_test[-1]\n",
      "    print '--------------------------------'"
     ],
     "language": "python",
     "metadata": {},
     "outputs": [
      {
       "output_type": "stream",
       "stream": "stdout",
       "text": [
        "-------------------------Approximation (reduced input)-----------------\n",
        "Compressed_dim of input:  1\n",
        "MAE/Train: "
       ]
      },
      {
       "output_type": "stream",
       "stream": "stdout",
       "text": [
        " 4.65432461888\n",
        "MAE/Test:  7.15505960418\n",
        "--------------------------------\n",
        "Compressed_dim of input:  4\n",
        "MAE/Train: "
       ]
      },
      {
       "output_type": "stream",
       "stream": "stdout",
       "text": [
        " 1.59386782245\n",
        "MAE/Test:  2.87337758161\n",
        "--------------------------------\n",
        "Compressed_dim of input:  7\n",
        "MAE/Train: "
       ]
      },
      {
       "output_type": "stream",
       "stream": "stdout",
       "text": [
        " 0.835227913699\n",
        "MAE/Test:  1.38450849595\n",
        "--------------------------------\n",
        "Compressed_dim of input:  10\n",
        "MAE/Train: "
       ]
      },
      {
       "output_type": "stream",
       "stream": "stdout",
       "text": [
        " 0.673397290488\n",
        "MAE/Test:  1.14739571092\n",
        "--------------------------------\n",
        "Compressed_dim of input:  13\n",
        "MAE/Train: "
       ]
      },
      {
       "output_type": "stream",
       "stream": "stdout",
       "text": [
        " 0.639684305262\n",
        "MAE/Test:  1.72544750747\n",
        "--------------------------------\n",
        "Compressed_dim of input:  16\n",
        "MAE/Train: "
       ]
      },
      {
       "output_type": "stream",
       "stream": "stdout",
       "text": [
        " 0.431462797187\n",
        "MAE/Test:  0.849490679534\n",
        "--------------------------------\n",
        "Compressed_dim of input:  19\n",
        "MAE/Train: "
       ]
      },
      {
       "output_type": "stream",
       "stream": "stdout",
       "text": [
        " 0.417886482947\n",
        "MAE/Test:  0.622733637965\n",
        "--------------------------------\n",
        "Compressed_dim of input:  22\n",
        "MAE/Train: "
       ]
      },
      {
       "output_type": "stream",
       "stream": "stdout",
       "text": [
        " 0.381430893563\n",
        "MAE/Test:  0.695780691253\n",
        "--------------------------------\n",
        "Compressed_dim of input:  25\n",
        "MAE/Train: "
       ]
      },
      {
       "output_type": "stream",
       "stream": "stdout",
       "text": [
        " 0.404442600115\n",
        "MAE/Test:  0.650536016373\n",
        "--------------------------------\n",
        "Compressed_dim of input:  28\n",
        "MAE/Train: "
       ]
      },
      {
       "output_type": "stream",
       "stream": "stdout",
       "text": [
        " 0.300711424011\n",
        "MAE/Test:  0.644061338839\n",
        "--------------------------------\n",
        "Compressed_dim of input:  31\n",
        "MAE/Train: "
       ]
      },
      {
       "output_type": "stream",
       "stream": "stdout",
       "text": [
        " 0.269613864431\n",
        "MAE/Test:  0.730782431635\n",
        "--------------------------------\n",
        "Compressed_dim of input:  34\n",
        "MAE/Train: "
       ]
      },
      {
       "output_type": "stream",
       "stream": "stdout",
       "text": [
        " 0.393796855802\n",
        "MAE/Test:  0.501932539368\n",
        "--------------------------------\n",
        "Compressed_dim of input:  37\n",
        "MAE/Train: "
       ]
      },
      {
       "output_type": "stream",
       "stream": "stdout",
       "text": [
        " 0.404250688917\n",
        "MAE/Test:  0.739020241029\n",
        "--------------------------------\n",
        "Compressed_dim of input:  40\n",
        "MAE/Train: "
       ]
      },
      {
       "output_type": "stream",
       "stream": "stdout",
       "text": [
        " 0.213783710035\n",
        "MAE/Test:  0.589188393213\n",
        "--------------------------------\n",
        "Compressed_dim of input:  43\n",
        "MAE/Train: "
       ]
      },
      {
       "output_type": "stream",
       "stream": "stdout",
       "text": [
        " 0.437854835422\n",
        "MAE/Test:  0.858142056575\n",
        "--------------------------------\n",
        "Compressed_dim of input:  46\n",
        "MAE/Train: "
       ]
      },
      {
       "output_type": "stream",
       "stream": "stdout",
       "text": [
        " 0.399261007857\n",
        "MAE/Test:  0.642096756515\n",
        "--------------------------------\n",
        "Compressed_dim of input:  49\n",
        "MAE/Train: "
       ]
      },
      {
       "output_type": "stream",
       "stream": "stdout",
       "text": [
        " 0.358226695806\n",
        "MAE/Test:  0.630411602452\n",
        "--------------------------------\n",
        "Compressed_dim of input:  52\n",
        "MAE/Train: "
       ]
      },
      {
       "output_type": "stream",
       "stream": "stdout",
       "text": [
        " 0.294846872305\n",
        "MAE/Test:  0.738089743829\n",
        "--------------------------------\n",
        "Compressed_dim of input:  55\n",
        "MAE/Train: "
       ]
      },
      {
       "output_type": "stream",
       "stream": "stdout",
       "text": [
        " 0.379701392276\n",
        "MAE/Test:  0.687424354534\n",
        "--------------------------------\n"
       ]
      }
     ],
     "prompt_number": 35
    },
    {
     "cell_type": "code",
     "collapsed": false,
     "input": [
      "my_plot (indices, mae_train, 'dim', 'MAE', 'MAE for approximation based on reduced input',\n",
      "    'approximation_reduced_input.eps', y2=mae_test)"
     ],
     "language": "python",
     "metadata": {},
     "outputs": [],
     "prompt_number": 43
    },
    {
     "cell_type": "code",
     "collapsed": false,
     "input": [
      "print '-----------------------Outputs dimension reduction----------------'\n",
      "graph = []\n",
      "new_data = []\n",
      "indices = range (1,58,3)\n",
      "for i in indices:\n",
      "    out = reduce_dim (i,inputs=outputs)\n",
      "    new_data.append (out)\n",
      "    graph.append (mae(out['model'].decompress(out['input']),outputs))\n",
      "    print i, graph[-1]"
     ],
     "language": "python",
     "metadata": {},
     "outputs": [
      {
       "output_type": "stream",
       "stream": "stdout",
       "text": [
        "-----------------------Outputs dimension reduction----------------\n",
        "1"
       ]
      },
      {
       "output_type": "stream",
       "stream": "stdout",
       "text": [
        " 3.38361844194\n",
        "4"
       ]
      },
      {
       "output_type": "stream",
       "stream": "stdout",
       "text": [
        " 1.07710258169\n",
        "7"
       ]
      },
      {
       "output_type": "stream",
       "stream": "stdout",
       "text": [
        " 0.524105367968\n",
        "10"
       ]
      },
      {
       "output_type": "stream",
       "stream": "stdout",
       "text": [
        " 0.358688156809\n",
        "13"
       ]
      },
      {
       "output_type": "stream",
       "stream": "stdout",
       "text": [
        " 0.36131602019\n",
        "16"
       ]
      },
      {
       "output_type": "stream",
       "stream": "stdout",
       "text": [
        " 0.265567704515\n",
        "19"
       ]
      },
      {
       "output_type": "stream",
       "stream": "stdout",
       "text": [
        " 0.144133133238\n",
        "22"
       ]
      },
      {
       "output_type": "stream",
       "stream": "stdout",
       "text": [
        " 0.0978553940264\n",
        "25"
       ]
      },
      {
       "output_type": "stream",
       "stream": "stdout",
       "text": [
        " 0.075644115712\n",
        "28"
       ]
      },
      {
       "output_type": "stream",
       "stream": "stdout",
       "text": [
        " 0.0496793150242\n",
        "31"
       ]
      },
      {
       "output_type": "stream",
       "stream": "stdout",
       "text": [
        " 0.0437917125908\n",
        "34"
       ]
      },
      {
       "output_type": "stream",
       "stream": "stdout",
       "text": [
        " 0.0324915477842\n",
        "37"
       ]
      },
      {
       "output_type": "stream",
       "stream": "stdout",
       "text": [
        " 0.0261199349087\n",
        "40"
       ]
      },
      {
       "output_type": "stream",
       "stream": "stdout",
       "text": [
        " 0.0120302195391\n",
        "43"
       ]
      },
      {
       "output_type": "stream",
       "stream": "stdout",
       "text": [
        " 0.0128494515166\n",
        "46"
       ]
      },
      {
       "output_type": "stream",
       "stream": "stdout",
       "text": [
        " 0.00774403336567\n",
        "49"
       ]
      },
      {
       "output_type": "stream",
       "stream": "stdout",
       "text": [
        " 0.00610480552325\n",
        "52"
       ]
      },
      {
       "output_type": "stream",
       "stream": "stdout",
       "text": [
        " 0.00373201727808\n",
        "55"
       ]
      },
      {
       "output_type": "stream",
       "stream": "stdout",
       "text": [
        " 0.00140277255538\n"
       ]
      }
     ],
     "prompt_number": 44
    },
    {
     "cell_type": "code",
     "collapsed": false,
     "input": [
      "my_plot (indices, graph, 'dim', 'MAE', 'MAE/dimension', 'output_dimension_reduction.png')"
     ],
     "language": "python",
     "metadata": {},
     "outputs": [],
     "prompt_number": 45
    },
    {
     "cell_type": "code",
     "collapsed": false,
     "input": [
      "print '-------------------------Approximation (reduced output)-----------------'\n",
      "mae_train = []\n",
      "mae_test = []\n",
      "for d in new_data:\n",
      "    [train_x, train_y, test_x, test_y] = get_data (inputs, d['input'], {5,10})\n",
      "    print 'Compressed_dim of output: ',d['model'].compressed_dim\n",
      "    [train_prediction, test_prediction] = approx ()\n",
      "    [t1,check_train, t2, check_test] = get_data (inputs, outputs, {5,10})\n",
      "    mae_train.append (mae (d['model'].decompress (train_prediction), check_train))\n",
      "    mae_test.append (mae (d['model'].decompress (test_prediction), check_test))\n",
      "    print 'MAE/Train: ', mae_train[-1]\n",
      "    print 'MAE/Test: ', mae_test[-1]\n",
      "    print '--------------------------------'"
     ],
     "language": "python",
     "metadata": {},
     "outputs": [
      {
       "output_type": "stream",
       "stream": "stdout",
       "text": [
        "-------------------------Approximation (reduced output)-----------------\n",
        "Compressed_dim of output:  1\n",
        "MAE/Train: "
       ]
      },
      {
       "output_type": "stream",
       "stream": "stdout",
       "text": [
        " 3.39143133485\n",
        "MAE/Test:  3.11859652538\n",
        "--------------------------------\n",
        "Compressed_dim of output:  4\n",
        "MAE/Train: "
       ]
      },
      {
       "output_type": "stream",
       "stream": "stdout",
       "text": [
        " 1.09330546324\n",
        "MAE/Test:  0.844286770658\n",
        "--------------------------------\n",
        "Compressed_dim of output:  7\n",
        "MAE/Train: "
       ]
      },
      {
       "output_type": "stream",
       "stream": "stdout",
       "text": [
        " 0.556663666043\n",
        "MAE/Test:  0.782133341208\n",
        "--------------------------------\n",
        "Compressed_dim of output:  10\n",
        "MAE/Train: "
       ]
      },
      {
       "output_type": "stream",
       "stream": "stdout",
       "text": [
        " 0.397055893207\n",
        "MAE/Test:  0.520706833045\n",
        "--------------------------------\n",
        "Compressed_dim of output:  13\n",
        "MAE/Train: "
       ]
      },
      {
       "output_type": "stream",
       "stream": "stdout",
       "text": [
        " 0.471191046127\n",
        "MAE/Test:  0.664397016907\n",
        "--------------------------------\n",
        "Compressed_dim of output:  16\n",
        "MAE/Train: "
       ]
      },
      {
       "output_type": "stream",
       "stream": "stdout",
       "text": [
        " 0.38816877028\n",
        "MAE/Test:  0.625379135925\n",
        "--------------------------------\n",
        "Compressed_dim of output:  19\n",
        "MAE/Train: "
       ]
      },
      {
       "output_type": "stream",
       "stream": "stdout",
       "text": [
        " 0.267322901329\n",
        "MAE/Test:  0.606481189684\n",
        "--------------------------------\n",
        "Compressed_dim of output:  22\n",
        "MAE/Train: "
       ]
      },
      {
       "output_type": "stream",
       "stream": "stdout",
       "text": [
        " 0.231673410049\n",
        "MAE/Test:  0.460924319256\n",
        "--------------------------------\n",
        "Compressed_dim of output:  25\n",
        "MAE/Train: "
       ]
      },
      {
       "output_type": "stream",
       "stream": "stdout",
       "text": [
        " 0.478175907343\n",
        "MAE/Test:  0.967077076953\n",
        "--------------------------------\n",
        "Compressed_dim of output:  28\n",
        "MAE/Train: "
       ]
      },
      {
       "output_type": "stream",
       "stream": "stdout",
       "text": [
        " 0.246768365232\n",
        "MAE/Test:  0.596616560062\n",
        "--------------------------------\n",
        "Compressed_dim of output:  31\n",
        "MAE/Train: "
       ]
      },
      {
       "output_type": "stream",
       "stream": "stdout",
       "text": [
        " 0.466992010663\n",
        "MAE/Test:  0.946321147661\n",
        "--------------------------------\n",
        "Compressed_dim of output:  34\n",
        "MAE/Train: "
       ]
      },
      {
       "output_type": "stream",
       "stream": "stdout",
       "text": [
        " 0.461895695916\n",
        "MAE/Test:  0.948752886942\n",
        "--------------------------------\n",
        "Compressed_dim of output:  37\n",
        "MAE/Train: "
       ]
      },
      {
       "output_type": "stream",
       "stream": "stdout",
       "text": [
        " 0.458434105435\n",
        "MAE/Test:  0.949569469805\n",
        "--------------------------------\n",
        "Compressed_dim of output:  40\n",
        "MAE/Train: "
       ]
      },
      {
       "output_type": "stream",
       "stream": "stdout",
       "text": [
        " 0.452763619136\n",
        "MAE/Test:  0.966150418888\n",
        "--------------------------------\n",
        "Compressed_dim of output:  43\n",
        "MAE/Train: "
       ]
      },
      {
       "output_type": "stream",
       "stream": "stdout",
       "text": [
        " 0.449405044979\n",
        "MAE/Test:  0.999418253354\n",
        "--------------------------------\n",
        "Compressed_dim of output:  46\n",
        "MAE/Train: "
       ]
      },
      {
       "output_type": "stream",
       "stream": "stdout",
       "text": [
        " 0.448240500783\n",
        "MAE/Test:  1.0177141483\n",
        "--------------------------------\n",
        "Compressed_dim of output:  49\n",
        "MAE/Train: "
       ]
      },
      {
       "output_type": "stream",
       "stream": "stdout",
       "text": [
        " 0.447454764609\n",
        "MAE/Test:  1.05312842943\n",
        "--------------------------------\n",
        "Compressed_dim of output:  52\n",
        "MAE/Train: "
       ]
      },
      {
       "output_type": "stream",
       "stream": "stdout",
       "text": [
        " 0.447439361823\n",
        "MAE/Test:  1.09082453722\n",
        "--------------------------------\n",
        "Compressed_dim of output:  55\n",
        "MAE/Train: "
       ]
      },
      {
       "output_type": "stream",
       "stream": "stdout",
       "text": [
        " 0.447745850613\n",
        "MAE/Test:  1.12107389975\n",
        "--------------------------------\n"
       ]
      }
     ],
     "prompt_number": 46
    },
    {
     "cell_type": "code",
     "collapsed": false,
     "input": [
      "my_plot (indices, mae_train, 'dim', 'MAE', 'MAE for approximation based on reduced output',\n",
      "    'approximation_reduced_output.png', y2=mae_test)\n"
     ],
     "language": "python",
     "metadata": {},
     "outputs": [],
     "prompt_number": 47
    },
    {
     "cell_type": "markdown",
     "metadata": {},
     "source": [
      "---\n",
      "## 7) Optional\n",
      "\n",
      "TODO:\n",
      "\n",
      "* Change *GTApprox/Technique* option\n",
      "* Exchange inputs and outputs"
     ]
    },
    {
     "cell_type": "code",
     "collapsed": false,
     "input": [],
     "language": "python",
     "metadata": {},
     "outputs": []
    }
   ],
   "metadata": {}
  }
 ]
}