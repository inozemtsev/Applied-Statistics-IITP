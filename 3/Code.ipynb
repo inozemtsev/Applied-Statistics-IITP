{
 "metadata": {
  "name": "",
  "signature": "sha256:59eb6035042576089717264f718b0a3364f8fba745aa5f649854868dc1962784"
 },
 "nbformat": 3,
 "nbformat_minor": 0,
 "worksheets": [
  {
   "cells": [
    {
     "cell_type": "heading",
     "level": 1,
     "metadata": {},
     "source": [
      "Sensitivity analysis and optimization for rotating disk problem"
     ]
    },
    {
     "cell_type": "heading",
     "level": 2,
     "metadata": {},
     "source": [
      "Preparations"
     ]
    },
    {
     "cell_type": "heading",
     "level": 3,
     "metadata": {},
     "source": [
      "Necessary imports"
     ]
    },
    {
     "cell_type": "code",
     "collapsed": false,
     "input": [
      "from da.macros import gtapprox, gtopt, gtsda, blackbox\n",
      "from da.macros.loggers import StreamLogger\n",
      "import numpy as np\n",
      "import sys"
     ],
     "language": "python",
     "metadata": {},
     "outputs": [],
     "prompt_number": 1
    },
    {
     "cell_type": "heading",
     "level": 3,
     "metadata": {},
     "source": [
      "Define blackbox"
     ]
    },
    {
     "cell_type": "markdown",
     "metadata": {},
     "source": [
      "Blackbox object represents the problem for GT SDA Ranker in blackbox mode."
     ]
    },
    {
     "cell_type": "code",
     "collapsed": false,
     "input": [
      "class ExampleBlackbox(blackbox.Blackbox):\n",
      "  \"\"\"\n",
      "  problem representation for GTSDA Ranker in blackbox mode\n",
      "  \"\"\"\n",
      "  def __init__(self, model):\n",
      "    self.model = model\n",
      "\n",
      "  def prepare_blackbox(self):\n",
      "    # add new variable in problem\n",
      "    self.add_variable((10.0, 110.0))\n",
      "    self.add_variable((4.0, 50.0))\n",
      "    self.add_variable((120.0, 140.0))\n",
      "    self.add_variable((150.0, 168.0),)\n",
      "    self.add_variable((4.0, 50.0),)\n",
      "    self.add_variable((170.0, 200.0))\n",
      "    # add new response in problem\n",
      "    self.add_response()\n",
      "    self.add_response()\n",
      "    self.add_response()\n",
      "    \n",
      "  def evaluate(self, queryx):\n",
      "    result = []\n",
      "    for x in queryx:\n",
      "      result.append(model.calc(x))\n",
      "    return result"
     ],
     "language": "python",
     "metadata": {},
     "outputs": [],
     "prompt_number": 2
    },
    {
     "cell_type": "heading",
     "level": 2,
     "metadata": {},
     "source": [
      "Exercise 1: Basic correlation analysis"
     ]
    },
    {
     "cell_type": "markdown",
     "metadata": {},
     "source": [
      "Checker is a tool for correlation analysis that answers the questions:\n",
      "* Are there correlations between inputs and outputs?\n",
      "* Are they statistically significant or just occured by chance?\n",
      "\n",
      "Tool takes sample of inputs (**x**) and outputs (**y**) and provides: \n",
      "* *correlation scores*, \n",
      "* corresponding *p-values* \n",
      "* *decisions* if certain correlation should be considered significant for given significance level\n",
      "\n",
      "In MACROS version 3.4 Checker supports most popular correlation analysis methods: \n",
      "* pearson's rho (with *partial*\\* version) - that is good for linear dependencies, \n",
      "* spearman's rho - that handles monotonic dependencies,\n",
      "* kendal's tau - to work with binary and discrete variables\n",
      "\n",
      "Your tasks:\n",
      "\n",
      "* First load the data set from 'doe_100.csv'\n",
      "* Use method check from GTSDA\n",
      "* Based on the result try to make your conclusion: what variables influence the output?"
     ]
    },
    {
     "cell_type": "code",
     "collapsed": false,
     "input": [
      "import pandas as pd\n",
      "import matplotlib.pyplot as plt\n",
      "def checker_correlation(scores_type):\n",
      "    analyzer.options.set({'GTSDA/Checker/ScoresType': scores_type})\n",
      "    result = analyzer.check(x=features, y=answers)\n",
      "    data_plot = pd.DataFrame(result.scores, columns=['r_1', 't_1', 'r_2', 'r_3', 't_3', 'r_4'], index=['mass', 's_max', 'u_2'])\n",
      "    fig, ax = plt.subplots(nrows=1, ncols=1)\n",
      "    data_plot.plot(ax=ax, kind='bar', stacked=True, title=scores_type)\n",
      "    plt.show()\n",
      "data = np.array(pd.read_csv('doe_100.csv'))\n",
      "features = data[:, :6]\n",
      "answers = data[:, 6:]\n",
      "analyzer = gtsda.Analyzer()\n",
      "for score_type in ['PearsonCorrelation', 'PearsonPartialCorrelation', 'SpearmanCorrelation']:\n",
      "    checker_correlation(score_type)"
     ],
     "language": "python",
     "metadata": {},
     "outputs": [],
     "prompt_number": 3
    },
    {
     "cell_type": "markdown",
     "metadata": {},
     "source": [
      "So we can see that 1, 2, 5 variables of input influence output"
     ]
    },
    {
     "cell_type": "heading",
     "level": 2,
     "metadata": {},
     "source": [
      "Exercise 2: sensitivity analysis"
     ]
    },
    {
     "cell_type": "markdown",
     "metadata": {},
     "source": [
      "Ranker is a tool for global sensitivity analysis.\n",
      "\n",
      "Tool takes sample of inputs (**x**) and outputs (**y**) or **Blackbox** object and provides: \n",
      "* *feature scores* that allow to rank inputs according to their importance\n",
      "\n",
      "In MACROS version 3.4 Ranker implements most popular global sensitivity analysis methods: \n",
      "* Screening indicies - that may be thought of as crude estimation of average absolute value of partial derivative, \n",
      "* Sobol indicies - that show portion of variance in the output that is explained by input,\n",
      "\n",
      "\n",
      "Your tasks:\n",
      "\n",
      "* Perform sensitivity analysis in a sample-based mode\n",
      "* Create a surrogate model with GTApprox\n",
      "* Estimate sensitivities with use of surrogate model as a blackbox (blackbox object to be passed is prepared for you)\n",
      "* Based on the result try to make your conclusion: what variables influence the output? Compare with the results from Checker."
     ]
    },
    {
     "cell_type": "code",
     "collapsed": false,
     "input": [
      "ranker = gtsda.Analyzer()\n",
      "ranker.options.set({'GTSDA/Ranker/IndicesType': 'Sobol'})\n",
      "result = ranker.rank(x=features, y=answers)\n",
      "data_plot = pd.DataFrame(result.scores, columns=['r_1', 't_1', 'r_2', 'r_3', 't_3', 'r_4'], index=['mass', 's_max', 'u_2'])\n",
      "fig, ax = plt.subplots(nrows=1, ncols=1)\n",
      "data_plot.plot(ax=ax, kind='bar', stacked=True, title='Sobol Indices, sample-based mode')\n",
      "ax.legend().draggable()\n",
      "plt.show()"
     ],
     "language": "python",
     "metadata": {},
     "outputs": [],
     "prompt_number": 4
    },
    {
     "cell_type": "code",
     "collapsed": false,
     "input": [
      "builder = gtapprox.Builder()\n",
      "builder.set_logger(StreamLogger(sys.stdout))\n",
      "builder.options.set({'GTApprox/LogLevel': 'Fatal', 'GTApprox/Technique': 'HDA'})\n",
      "model = builder.build (features, answers)\n",
      "\n",
      "ranker.options.set({'GTSDA/Ranker/IndicesType': 'Sobol'})\n",
      "result = ranker.rank(blackbox=ExampleBlackbox(model), budget=10000)\n",
      "data_plot = pd.DataFrame(result.scores, columns=['r_1', 't_1', 'r_2', 'r_3', 't_3', 'r_4'], index=['mass', 's_max', 'u_2'])\n",
      "fig, ax = plt.subplots(nrows=1, ncols=1)\n",
      "data_plot.plot(ax=ax, kind='bar', stacked=True, title='Sobol Indices, blackbox')\n",
      "ax.legend().draggable()\n",
      "plt.show()"
     ],
     "language": "python",
     "metadata": {},
     "outputs": [],
     "prompt_number": 5
    },
    {
     "cell_type": "heading",
     "level": 2,
     "metadata": {},
     "source": [
      "Exercise 3: Optimization"
     ]
    },
    {
     "cell_type": "markdown",
     "metadata": {},
     "source": [
      "The final goal is to optimize the mass of the rotating disk. It will be done with GTOpt optimizer via approximation the surrogate model constructed. We assume that surrogate model is of reasonable quality. The optimization problem for full parameter space is prepared for you.\n",
      "\n",
      "\n",
      "Your tasks:\n",
      "\n",
      "* Perform optimization by running code below\n",
      "* Change optimization problem statement in order to include only important variables into optimization problem statement\n",
      "* Compare the results of optimization for two formulations considered"
     ]
    },
    {
     "cell_type": "code",
     "collapsed": false,
     "input": [
      "class OptProblem(gtopt.ProblemConstrained):\n",
      "  def number_evaluations(self):\n",
      "    return self.count\n",
      "    \n",
      "  def __init__(self, model):\n",
      "    self.model = model\n",
      "    self.count = 0\n",
      "\n",
      "  def prepare_problem(self):\n",
      "    self.add_objective(name='mass')\n",
      "    self.add_constraint(bounds=(None, 600.0), name='smax')\n",
      "    self.add_constraint(bounds=(None, 0.3), name='u2')\n",
      "    self.add_variable(bounds=(10.0, 110.0), name='r1')\n",
      "    self.add_variable(bounds=(4.0, 50.0), name='t1')\n",
      "    self.add_variable(bounds=(120.0, 140.0), name='r2')\n",
      "    self.add_variable(bounds=(150.0, 168.0), name='r3')\n",
      "    self.add_variable(bounds=(4.0, 50.0), name='t3')\n",
      "    self.add_variable(bounds=(170.0, 200.0), name='r4')\n",
      "\n",
      "  def define_objectives(self, query_x):  \n",
      "    values = self.model.calc(query_x)\n",
      "    self.count += 1\n",
      "    return values[0]\n",
      "\n",
      "  def define_constraints(self, query_x):\n",
      "    values = self.model.calc(query_x)\n",
      "    return values[1:3]\n",
      "\n",
      "optimizer = gtopt.Solver()\n",
      "opt_problem = OptProblem(model)\n",
      "\n",
      "result = optimizer.solve(opt_problem, sample_x=[[109.0, 32.0, 123.0, 154.0, 6.0, 198.0]])\n",
      "print 'Optimal function value: ', result.optimal.f\n",
      "print 'Number of model evaluations: ', opt_problem.number_evaluations()"
     ],
     "language": "python",
     "metadata": {},
     "outputs": [
      {
       "output_type": "stream",
       "stream": "stdout",
       "text": [
        "Optimal function value:  [[ 13.72604388]]\n",
        "Number of model evaluations:  147\n"
       ]
      }
     ],
     "prompt_number": 6
    },
    {
     "cell_type": "code",
     "collapsed": false,
     "input": [
      "class OptProblem(gtopt.ProblemConstrained):\n",
      "  def number_evaluations(self):\n",
      "    return self.count\n",
      "    \n",
      "  def __init__(self, model):\n",
      "    self.model = model\n",
      "    self.count = 0\n",
      "\n",
      "  def prepare_problem(self):\n",
      "    self.add_objective(name='mass')\n",
      "    self.add_constraint(bounds=(None, 600.0), name='smax')\n",
      "    self.add_constraint(bounds=(None, 0.3), name='u2')\n",
      "    self.add_variable(bounds=(10.0, 110.0), name='r1')\n",
      "    self.add_variable(bounds=(4.0, 50.0), name='t1')\n",
      "#     self.add_variable(bounds=(120.0, 140.0), name='r2')\n",
      "#     self.add_variable(bounds=(150.0, 168.0), name='r3')\n",
      "    self.add_variable(bounds=(4.0, 50.0), name='t3')\n",
      "#     self.add_variable(bounds=(170.0, 200.0), name='r4')\n",
      "\n",
      "  def define_objectives(self, query_x):  \n",
      "    values = self.model.calc(query_x)\n",
      "    self.count += 1\n",
      "    return values[0]\n",
      "\n",
      "  def define_constraints(self, query_x):\n",
      "    values = self.model.calc(query_x)\n",
      "    return values[1:3]\n",
      "\n",
      "builder = gtapprox.Builder()\n",
      "x_reduced = np.column_stack((features[:, 0], features[:, 1], features[:, 4]))\n",
      "builder.options.set({'GTApprox/LogLevel': 'Fatal', 'GTApprox/Technique': 'Auto'})\n",
      "model_reduced = builder.build(x_reduced, answers)\n",
      "optimizer = gtopt.Solver()\n",
      "opt_problem = OptProblem(model_reduced)\n",
      "\n",
      "result = optimizer.solve(opt_problem, sample_x=[[109.0, 32.0, 6.0]])\n",
      "print 'Optimal function value: ', result.optimal.f\n",
      "print 'Number of model evaluations: ', opt_problem.number_evaluations()"
     ],
     "language": "python",
     "metadata": {},
     "outputs": [
      {
       "output_type": "stream",
       "stream": "stdout",
       "text": [
        "Optimal function value:  [[ 14.27503905]]\n",
        "Number of model evaluations:  72\n"
       ]
      }
     ],
     "prompt_number": 7
    },
    {
     "cell_type": "code",
     "collapsed": false,
     "input": [],
     "language": "python",
     "metadata": {},
     "outputs": []
    }
   ],
   "metadata": {}
  }
 ]
}