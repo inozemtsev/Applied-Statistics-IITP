{
 "metadata": {
  "name": "",
  "signature": "sha256:9b31d1a709c01e5e86df6c8e9e12b341cc291e94a804bef61ebe68992965f46b"
 },
 "nbformat": 3,
 "nbformat_minor": 0,
 "worksheets": [
  {
   "cells": [
    {
     "cell_type": "markdown",
     "metadata": {},
     "source": [
      "# Approximation of Pressure distribution on airfoils\n",
      "\n",
      "In this example we demonstrate:\n",
      "    \n",
      "* Basic data loading and splitting\n",
      "* Construction of surrogate models with multiple inputs/outputs\n",
      "* Basic analysis of results\n",
      "\n",
      "__Notes__:\n",
      "\n",
      "* Approximation is based on real database of airfoils\n",
      "* We seek to approximate the pressure distribution given an airfoil shape\n",
      "* One can also solve inverse problem (i.e. approximate airfoil shape given desired pressure distribution)\n"
     ]
    },
    {
     "cell_type": "markdown",
     "metadata": {},
     "source": [
      "0) Imports\n",
      "----------"
     ]
    },
    {
     "cell_type": "code",
     "collapsed": false,
     "input": [
      "# import of MACROS Approximation module\n",
      "from da.macros import gtapprox, loggers, gtdr \n",
      "# inport of auxiliraly module (for graphics), used only in this tutorials for simplification\n",
      "import tutorials.gtapprox as aux \n",
      "import numpy as np\n",
      "import csv,sys\n",
      "from matplotlib import pyplot as plt\n",
      "from matplotlib import cm\n"
     ],
     "language": "python",
     "metadata": {},
     "outputs": [],
     "prompt_number": 3
    },
    {
     "cell_type": "markdown",
     "metadata": {},
     "source": [
      "## 1) Loading data\n",
      "\n",
      "__TODO__:\n",
      "\n",
      "* Specify path to data (_data/approx_pressure_distribution_X57_Y57_)\n",
      "* Load the data into variable\n",
      "* Determine the shape of the data (**shape** command)"
     ]
    },
    {
     "cell_type": "code",
     "collapsed": false,
     "input": [
      "datas = []\n",
      "with open ('approx_pressure_distribution_X57_Y57.csv', 'rb') as f:\n",
      "    reader = csv.reader (f, delimiter='\\t')\n",
      "    for r in reader:\n",
      "        datas.append (r)\n",
      "datas = np.array (datas)\n",
      "datas = np.delete (datas, 0, axis=0)\n",
      "data = np.array (datas, dtype='float64')\n",
      "# print data"
     ],
     "language": "python",
     "metadata": {},
     "outputs": [],
     "prompt_number": 4
    },
    {
     "cell_type": "markdown",
     "metadata": {},
     "source": [
      "## 2) Specify inputs / outputs\n",
      "\n",
      "__TODO__:\n",
      "\n",
      "* Put the first 57 columns to __inputs__\n",
      "* Put the last 57 columns to __outputs__\n",
      "* Ensure sizes of __inputs__ and __outputs__ are equal (not that everything starts from 0 in Python)\n",
      "* Split dataset to test and train: __train_x__, __train_y__, __test_x__, __test_y__ (use any two airfoils for test)\n",
      "\n",
      "\n",
      "_Hint: To split the dataset you need to perform slicing like X[:, :10] - which means that you take all rows and 10 first columns from X_"
     ]
    },
    {
     "cell_type": "code",
     "collapsed": false,
     "input": [
      "inputs =np.array (data[:,:57])\n",
      "outputs = np.array(data[:,57:])\n",
      "# print 'inputs.shape: ', inputs.shape\n",
      "# print 'outputs.shape: ', outputs.shape\n",
      "train_x = np.array([inputs[x] for x in range(inputs.shape[0]) if x not in {5,10}])\n",
      "train_y = np.array([outputs[x] for x in range(outputs.shape[0]) if x not in {5,10}])\n",
      "test_x = np.array([inputs[5], inputs[10]])\n",
      "test_y = np.array([outputs[5], outputs[10]])\n",
      "print 'train_x.shape: ',train_x.shape\n",
      "print 'train_y.shape: ',train_y.shape\n",
      "print 'test_x.shape: ',test_x.shape\n",
      "print 'test_y.shape: ',test_y.shape\n"
     ],
     "language": "python",
     "metadata": {},
     "outputs": [
      {
       "output_type": "stream",
       "stream": "stdout",
       "text": [
        "train_x.shape:  (204L, 57L)\n",
        "train_y.shape:  (204L, 57L)\n",
        "test_x.shape:  (2L, 57L)\n",
        "test_y.shape:  (2L, 57L)\n"
       ]
      }
     ],
     "prompt_number": 5
    },
    {
     "cell_type": "markdown",
     "metadata": {},
     "source": [
      "3) Build approx model\n",
      "---------------------\n",
      "\n",
      "__TODO__:\n",
      "\n",
      "* Create __gtapprox.Builder()__\n",
      "* Specify the logger\n",
      "* Create model using __build__ function of __Builder__ and providing train set\n",
      "\n",
      "_Hint: Use option  {'GTApprox/Technique': 'HDA'} for faster execution_"
     ]
    },
    {
     "cell_type": "code",
     "collapsed": false,
     "input": [
      "builder = gtapprox.Builder()\n",
      "builder.set_logger(loggers.StreamLogger(sys.stdout))\n",
      "builder.options.set({'GTApprox/LogLevel': 'Info', 'GTApprox/Technique': 'HDA'})\n",
      "model = builder.build (train_x, train_y)"
     ],
     "language": "python",
     "metadata": {},
     "outputs": [
      {
       "output_type": "stream",
       "stream": "stdout",
       "text": [
        "    Build stamp information:\n"
       ]
      },
      {
       "output_type": "stream",
       "stream": "stdout",
       "text": [
        "    BuildStamp: date=2014-09-18 17:45:59; public_version=3.4; revision=39882 -DCM_BS_BUILD_TYPE=Release -DCM_BS_BUILDER_INFO=manual@EVIL; version=3.4.400; \n"
       ]
      },
      {
       "output_type": "stream",
       "stream": "stdout",
       "text": [
        "    OpenMP Threads max is: 4\n"
       ]
      },
      {
       "output_type": "stream",
       "stream": "stdout",
       "text": [
        "    \n",
        "\n",
        "The following options are specified:\n"
       ]
      },
      {
       "output_type": "stream",
       "stream": "stdout",
       "text": [
        "    GTApprox/LogLevel: Info\n"
       ]
      },
      {
       "output_type": "stream",
       "stream": "stdout",
       "text": [
        "    GTApprox/Technique: HDA\n"
       ]
      },
      {
       "output_type": "stream",
       "stream": "stdout",
       "text": [
        "    \n",
        "\n",
        "The following options are specified for internal approximation builder:\n"
       ]
      },
      {
       "output_type": "stream",
       "stream": "stdout",
       "text": [
        "    GTApprox/LogLevel: Info\n"
       ]
      },
      {
       "output_type": "stream",
       "stream": "stdout",
       "text": [
        "    GTApprox/Technique: HDA\n"
       ]
      },
      {
       "output_type": "stream",
       "stream": "stdout",
       "text": [
        "    \n",
        "\n",
        "Checking input data and options...\n"
       ]
      },
      {
       "output_type": "stream",
       "stream": "stdout",
       "text": [
        "    Effective input size: 57\n"
       ]
      },
      {
       "output_type": "stream",
       "stream": "stdout",
       "text": [
        "    Effective output size: 57\n"
       ]
      },
      {
       "output_type": "stream",
       "stream": "stdout",
       "text": [
        "    Duplicate samples: 0\n"
       ]
      },
      {
       "output_type": "stream",
       "stream": "stdout",
       "text": [
        "    \n",
        "\n",
        "Choosing the appropriate approximation technique...\n"
       ]
      },
      {
       "output_type": "stream",
       "stream": "stdout",
       "text": [
        "    Approximation technique selected manually: 'HDA'.\n"
       ]
      },
      {
       "output_type": "stream",
       "stream": "stdout",
       "text": [
        "    \n",
        "\n",
        "Building Approximation...\n"
       ]
      },
      {
       "output_type": "stream",
       "stream": "stdout",
       "text": [
        "    Adjusted Acceleration for HDA :: GTApprox/Accelerator: 1 (assume small sample)\n"
       ]
      },
      {
       "output_type": "stream",
       "stream": "stdout",
       "text": [
        "    Creating HDA approximator...\n"
       ]
      },
      {
       "output_type": "stream",
       "stream": "stdout",
       "text": [
        "    Start training HDA on dataset [204, 57+57]\n"
       ]
      },
      {
       "output_type": "stream",
       "stream": "stdout",
       "text": [
        "    Evaluating input dataset...\n"
       ]
      },
      {
       "output_type": "stream",
       "stream": "stdout",
       "text": [
        "    Complexity range updated to [0, 15]\n"
       ]
      },
      {
       "output_type": "stream",
       "stream": "stdout",
       "text": [
        "    Estimating the complexity: p=0...\n"
       ]
      },
      {
       "output_type": "stream",
       "stream": "stdout",
       "text": [
        "    Scaled RMSE with complexity p=0 is 0.038397 - ACCEPTED\n"
       ]
      },
      {
       "output_type": "stream",
       "stream": "stdout",
       "text": [
        "    Estimating the complexity: p=2...\n"
       ]
      },
      {
       "output_type": "stream",
       "stream": "stdout",
       "text": [
        "    Scaled RMSE with complexity p=2 is 0.0418239 - REJECTED\n"
       ]
      },
      {
       "output_type": "stream",
       "stream": "stdout",
       "text": [
        "    Estimating the complexity: p=4...\n"
       ]
      },
      {
       "output_type": "stream",
       "stream": "stdout",
       "text": [
        "    Scaled RMSE with complexity p=4 is 0.0385288 - REJECTED\n"
       ]
      },
      {
       "output_type": "stream",
       "stream": "stdout",
       "text": [
        "    Estimating the complexity: p=8...\n"
       ]
      },
      {
       "output_type": "stream",
       "stream": "stdout",
       "text": [
        "    Scaled RMSE with complexity p=8 is 0.03788 - ACCEPTED\n"
       ]
      },
      {
       "output_type": "stream",
       "stream": "stdout",
       "text": [
        "    Estimating the complexity: p=15...\n"
       ]
      },
      {
       "output_type": "stream",
       "stream": "stdout",
       "text": [
        "    Scaled RMSE with complexity p=15 is 0.031238 - ACCEPTED\n"
       ]
      },
      {
       "output_type": "stream",
       "stream": "stdout",
       "text": [
        "    Accurate testing of the Basic Approximator with complexity p=9...\n"
       ]
      },
      {
       "output_type": "stream",
       "stream": "stdout",
       "text": [
        "    Scaled RMSE with complexity p=9 is 0.0399282 - REJECTED\n"
       ]
      },
      {
       "output_type": "stream",
       "stream": "stdout",
       "text": [
        "    Accurate testing of the Basic Approximator with complexity p=11...\n"
       ]
      },
      {
       "output_type": "stream",
       "stream": "stdout",
       "text": [
        "    Scaled RMSE with complexity p=11 is 0.0416987 - REJECTED\n"
       ]
      },
      {
       "output_type": "stream",
       "stream": "stdout",
       "text": [
        "    Accurate testing of the Basic Approximator with complexity p=14...\n"
       ]
      },
      {
       "output_type": "stream",
       "stream": "stdout",
       "text": [
        "    Scaled RMSE with complexity p=14 is 0.0347895 - REJECTED\n"
       ]
      },
      {
       "output_type": "stream",
       "stream": "stdout",
       "text": [
        "    Optimal complexity is 15, mean RMSE/Std is 0.0741671\n"
       ]
      },
      {
       "output_type": "stream",
       "stream": "stdout",
       "text": [
        "    Training phase #9\n"
       ]
      },
      {
       "output_type": "stream",
       "stream": "stdout",
       "text": [
        "    RMSE/Std for approximator #1 is 0.074167079\n"
       ]
      },
      {
       "output_type": "stream",
       "stream": "stdout",
       "text": [
        "    Training approximator #2\n"
       ]
      },
      {
       "output_type": "stream",
       "stream": "stdout",
       "text": [
        "    RMSE/Std for approximator #2 is 0.083809622\n"
       ]
      },
      {
       "output_type": "stream",
       "stream": "stdout",
       "text": [
        "    Training approximator #3\n"
       ]
      },
      {
       "output_type": "stream",
       "stream": "stdout",
       "text": [
        "    RMSE/Std for approximator #3 is 0.081476206\n"
       ]
      },
      {
       "output_type": "stream",
       "stream": "stdout",
       "text": [
        "    Training approximator #4\n"
       ]
      },
      {
       "output_type": "stream",
       "stream": "stdout",
       "text": [
        "    RMSE/Std for approximator #4 is 0.086043953\n"
       ]
      },
      {
       "output_type": "stream",
       "stream": "stdout",
       "text": [
        "    Training approximator #5\n"
       ]
      },
      {
       "output_type": "stream",
       "stream": "stdout",
       "text": [
        "    RMSE/Std for approximator #5 is 0.090177238\n"
       ]
      },
      {
       "output_type": "stream",
       "stream": "stdout",
       "text": [
        "    Building optimal tuple of approximators...\n"
       ]
      },
      {
       "output_type": "stream",
       "stream": "stdout",
       "text": [
        "    RMSE/Std of tuple of 1 approximators: 0.0741671\n"
       ]
      },
      {
       "output_type": "stream",
       "stream": "stdout",
       "text": [
        "    Training approximator #6\n"
       ]
      },
      {
       "output_type": "stream",
       "stream": "stdout",
       "text": [
        "    RMSE/Std for approximator #6 is 0.085671291\n"
       ]
      },
      {
       "output_type": "stream",
       "stream": "stdout",
       "text": [
        "    Optimal approximators tuple size is 1\n"
       ]
      },
      {
       "output_type": "stream",
       "stream": "stdout",
       "text": [
        "    RMSE/Std of current approximator is 0.0741671\n"
       ]
      },
      {
       "output_type": "stream",
       "stream": "stdout",
       "text": [
        "    Training phase #10\n"
       ]
      },
      {
       "output_type": "stream",
       "stream": "stdout",
       "text": [
        "    Training approximator #1\n"
       ]
      },
      {
       "output_type": "stream",
       "stream": "stdout",
       "text": [
        "    RMSE/Std for approximator #1 is 0.1517567\n"
       ]
      },
      {
       "output_type": "stream",
       "stream": "stdout",
       "text": [
        "    Training approximator #2\n"
       ]
      },
      {
       "output_type": "stream",
       "stream": "stdout",
       "text": [
        "    RMSE/Std for approximator #2 is 0.14342265\n"
       ]
      },
      {
       "output_type": "stream",
       "stream": "stdout",
       "text": [
        "    Training approximator #3\n"
       ]
      },
      {
       "output_type": "stream",
       "stream": "stdout",
       "text": [
        "    RMSE/Std for approximator #3 is 0.14459146\n"
       ]
      },
      {
       "output_type": "stream",
       "stream": "stdout",
       "text": [
        "    Training approximator #4\n"
       ]
      },
      {
       "output_type": "stream",
       "stream": "stdout",
       "text": [
        "    RMSE/Std for approximator #4 is 0.15339725\n"
       ]
      },
      {
       "output_type": "stream",
       "stream": "stdout",
       "text": [
        "    Training approximator #5\n"
       ]
      },
      {
       "output_type": "stream",
       "stream": "stdout",
       "text": [
        "    RMSE/Std for approximator #5 is 0.14912459\n"
       ]
      },
      {
       "output_type": "stream",
       "stream": "stdout",
       "text": [
        "    Building optimal tuple of approximators...\n"
       ]
      },
      {
       "output_type": "stream",
       "stream": "stdout",
       "text": [
        "    RMSE/Std of tuple of 1 approximators: 0.143423\n"
       ]
      },
      {
       "output_type": "stream",
       "stream": "stdout",
       "text": [
        "    Training approximator #6\n"
       ]
      },
      {
       "output_type": "stream",
       "stream": "stdout",
       "text": [
        "    RMSE/Std for approximator #6 is 0.14753898\n"
       ]
      },
      {
       "output_type": "stream",
       "stream": "stdout",
       "text": [
        "    Optimal approximators tuple size is 1\n"
       ]
      },
      {
       "output_type": "stream",
       "stream": "stdout",
       "text": [
        "    RMSE/Std of current approximator is 0.0784476\n"
       ]
      },
      {
       "output_type": "stream",
       "stream": "stdout",
       "text": [
        "    RMSE/Std of tuple of 1 approximators: 0.0741671\n"
       ]
      },
      {
       "output_type": "stream",
       "stream": "stdout",
       "text": [
        "    HDA approximator successfully created\n"
       ]
      }
     ],
     "prompt_number": 5
    },
    {
     "cell_type": "markdown",
     "metadata": {},
     "source": [
      "## 4) Calculate errors on test set\n",
      "\n",
      "__TODO__:\n",
      "\n",
      "* Calculate mean absolute error on the __train_x__, __train_y__\n",
      "* Calculate mean absolute error on the __test_x__, __test_y__\n",
      "\n",
      "*Hint: Use abs and mean commands from numpy*"
     ]
    },
    {
     "cell_type": "code",
     "collapsed": false,
     "input": [
      "train_prediction = model.calc (train_x)\n",
      "print 'MAE/Train: ', np.mean(np.sum(np.abs(train_prediction-train_y),axis=1))\n",
      "\n",
      "test_prediction = model.calc (test_x)\n",
      "print 'MAE/Test: ', np.mean(np.sum(np.abs(test_prediction-test_y),axis=1))"
     ],
     "language": "python",
     "metadata": {},
     "outputs": [
      {
       "output_type": "stream",
       "stream": "stdout",
       "text": [
        "MAE/Train:  0.297091192142\n",
        "MAE/Test:  0.45701515161\n"
       ]
      }
     ],
     "prompt_number": 6
    },
    {
     "cell_type": "markdown",
     "metadata": {},
     "source": [
      "## 5) Visualize the results"
     ]
    },
    {
     "cell_type": "code",
     "collapsed": false,
     "input": [
      "aux.airfoil_plotting(test_x, test_y, model.calc(test_x))"
     ],
     "language": "python",
     "metadata": {},
     "outputs": [
      {
       "output_type": "stream",
       "stream": "stdout",
       "text": [
        "Visualizing airfoils and pressure distributions (original and approximated) on test set\n",
        "Plot is saved to C:\\Users\\\ufffd\ufffd\ufffd\ufffd\ufffd\\SkyDrive\\Docs\\iitp_stat_2014\\Labs\\1\\tutorial_approx_airfoil_pressure.png"
       ]
      },
      {
       "output_type": "stream",
       "stream": "stdout",
       "text": [
        "\n"
       ]
      }
     ],
     "prompt_number": 7
    },
    {
     "cell_type": "markdown",
     "metadata": {},
     "source": [
      "---\n",
      "## 6) Dimension reduction\n",
      "\n",
      "TODO:\n",
      "\n",
      "\n",
      "* Apply **gtdr** to reduce dimensionality of inputs and/or outputs\n",
      "* Construct approximations in reduced space\n",
      "* Compare errors of approximation on test sample (in original space!!!)"
     ]
    },
    {
     "cell_type": "code",
     "collapsed": false,
     "input": [
      "def reduce_dim (dim,inputs=None, outputs=None):\n",
      "    dr_builder = gtdr.Builder()\n",
      "    dr_model = dr_builder.build (x=inputs, y=outputs, dim=dim)\n",
      "    new_input = new_output = []\n",
      "    if inputs is not None:\n",
      "        new_input = dr_model.compress (inputs)\n",
      "    if outputs is not None:\n",
      "        new_output = dr_model.compress (outputs)\n",
      "    return {'model':dr_model, 'input':new_input, 'output':new_output}\n",
      "\n",
      "def get_data (inputs, outputs, test_samples):\n",
      "    train_x = np.array([inputs[x] for x in range(inputs.shape[0]) if x not in test_samples])\n",
      "    train_y = np.array([outputs[x] for x in range(outputs.shape[0]) if x not in test_samples])\n",
      "    test_x = np.array([inputs[x] for x in range(inputs.shape[0]) if x in test_samples])\n",
      "    test_y = np.array([outputs[x] for x in range(outputs.shape[0]) if x in test_samples])\n",
      "    return [train_x, train_y, test_x, test_y]\n",
      "\n",
      "def mae (a,b):\n",
      "    return np.mean(np.sum(np.abs(a-b),axis=1))\n",
      "\n",
      "def approx (log = 'Fatal', tech='HDA'):\n",
      "    builder = gtapprox.Builder()\n",
      "    builder.set_logger(loggers.StreamLogger(sys.stdout))\n",
      "    builder.options.set({'GTApprox/LogLevel': log, 'GTApprox/Technique': tech})\n",
      "    model = builder.build (train_x, train_y)\n",
      "\n",
      "    train_prediction = model.calc (train_x)\n",
      "    test_prediction = model.calc (test_x)\n",
      "    return [train_prediction, test_prediction]\n",
      "\n",
      "def my_plot (x,y1, y2=None, xlabel,ylabel,title,filename):\n",
      "    f = plt.figure ()\n",
      "    ax = f.add_subplot (111)\n",
      "    ax.set_title (title)\n",
      "    ax.set_xlabel (xlabel)\n",
      "    ax.set_ylabel (ylabel)\n",
      "    plt.plot (x, y1, c='r')\n",
      "    if y2 is not None:\n",
      "        plt.plot (x,y2, c='b')\n",
      "    f.savefig (filename)\n",
      "    \n",
      "    "
     ],
     "language": "python",
     "metadata": {},
     "outputs": [],
     "prompt_number": 6
    },
    {
     "cell_type": "code",
     "collapsed": false,
     "input": [
      "print '-----------------------Inputs dimension reduction----------------'\n",
      "graph = []\n",
      "new_data = []\n",
      "indices = range (1,58,3)\n",
      "for i in indices:\n",
      "    out = reduce_dim (i,inputs)\n",
      "    new_data.append (out)\n",
      "    graph.append (mae(out['model'].decompress(out['input']),inputs))\n",
      "    print i, graph[-1]\n",
      "x_reduction = new_data[:]"
     ],
     "language": "python",
     "metadata": {},
     "outputs": [
      {
       "output_type": "stream",
       "stream": "stdout",
       "text": [
        "-----------------------Inputs dimension reduction----------------\n",
        "1"
       ]
      },
      {
       "output_type": "stream",
       "stream": "stdout",
       "text": [
        " 0.116629525885\n",
        "4"
       ]
      },
      {
       "output_type": "stream",
       "stream": "stdout",
       "text": [
        " 0.0281199958438\n"
       ]
      },
      {
       "ename": "KeyboardInterrupt",
       "evalue": "",
       "output_type": "pyerr",
       "traceback": [
        "\u001b[1;31m---------------------------------------------------------------------------\u001b[0m\n\u001b[1;31mKeyboardInterrupt\u001b[0m                         Traceback (most recent call last)",
        "\u001b[1;32m<ipython-input-7-92607c711099>\u001b[0m in \u001b[0;36m<module>\u001b[1;34m()\u001b[0m\n\u001b[0;32m      4\u001b[0m \u001b[0mindices\u001b[0m \u001b[1;33m=\u001b[0m \u001b[0mrange\u001b[0m \u001b[1;33m(\u001b[0m\u001b[1;36m1\u001b[0m\u001b[1;33m,\u001b[0m\u001b[1;36m58\u001b[0m\u001b[1;33m,\u001b[0m\u001b[1;36m3\u001b[0m\u001b[1;33m)\u001b[0m\u001b[1;33m\u001b[0m\u001b[0m\n\u001b[0;32m      5\u001b[0m \u001b[1;32mfor\u001b[0m \u001b[0mi\u001b[0m \u001b[1;32min\u001b[0m \u001b[0mindices\u001b[0m\u001b[1;33m:\u001b[0m\u001b[1;33m\u001b[0m\u001b[0m\n\u001b[1;32m----> 6\u001b[1;33m     \u001b[0mout\u001b[0m \u001b[1;33m=\u001b[0m \u001b[0mreduce_dim\u001b[0m \u001b[1;33m(\u001b[0m\u001b[0mi\u001b[0m\u001b[1;33m,\u001b[0m\u001b[0minputs\u001b[0m\u001b[1;33m)\u001b[0m\u001b[1;33m\u001b[0m\u001b[0m\n\u001b[0m\u001b[0;32m      7\u001b[0m     \u001b[0mnew_data\u001b[0m\u001b[1;33m.\u001b[0m\u001b[0mappend\u001b[0m \u001b[1;33m(\u001b[0m\u001b[0mout\u001b[0m\u001b[1;33m)\u001b[0m\u001b[1;33m\u001b[0m\u001b[0m\n\u001b[0;32m      8\u001b[0m     \u001b[0mgraph\u001b[0m\u001b[1;33m.\u001b[0m\u001b[0mappend\u001b[0m \u001b[1;33m(\u001b[0m\u001b[0mmae\u001b[0m\u001b[1;33m(\u001b[0m\u001b[0mout\u001b[0m\u001b[1;33m[\u001b[0m\u001b[1;34m'model'\u001b[0m\u001b[1;33m]\u001b[0m\u001b[1;33m.\u001b[0m\u001b[0mdecompress\u001b[0m\u001b[1;33m(\u001b[0m\u001b[0mout\u001b[0m\u001b[1;33m[\u001b[0m\u001b[1;34m'input'\u001b[0m\u001b[1;33m]\u001b[0m\u001b[1;33m)\u001b[0m\u001b[1;33m,\u001b[0m\u001b[0minputs\u001b[0m\u001b[1;33m)\u001b[0m\u001b[1;33m)\u001b[0m\u001b[1;33m\u001b[0m\u001b[0m\n",
        "\u001b[1;32m<ipython-input-6-5ed9e173c889>\u001b[0m in \u001b[0;36mreduce_dim\u001b[1;34m(dim, inputs, outputs)\u001b[0m\n\u001b[0;32m      1\u001b[0m \u001b[1;32mdef\u001b[0m \u001b[0mreduce_dim\u001b[0m \u001b[1;33m(\u001b[0m\u001b[0mdim\u001b[0m\u001b[1;33m,\u001b[0m\u001b[0minputs\u001b[0m\u001b[1;33m=\u001b[0m\u001b[0mNone\u001b[0m\u001b[1;33m,\u001b[0m \u001b[0moutputs\u001b[0m\u001b[1;33m=\u001b[0m\u001b[0mNone\u001b[0m\u001b[1;33m)\u001b[0m\u001b[1;33m:\u001b[0m\u001b[1;33m\u001b[0m\u001b[0m\n\u001b[0;32m      2\u001b[0m     \u001b[0mdr_builder\u001b[0m \u001b[1;33m=\u001b[0m \u001b[0mgtdr\u001b[0m\u001b[1;33m.\u001b[0m\u001b[0mBuilder\u001b[0m\u001b[1;33m(\u001b[0m\u001b[1;33m)\u001b[0m\u001b[1;33m\u001b[0m\u001b[0m\n\u001b[1;32m----> 3\u001b[1;33m     \u001b[0mdr_model\u001b[0m \u001b[1;33m=\u001b[0m \u001b[0mdr_builder\u001b[0m\u001b[1;33m.\u001b[0m\u001b[0mbuild\u001b[0m \u001b[1;33m(\u001b[0m\u001b[0mx\u001b[0m\u001b[1;33m=\u001b[0m\u001b[0minputs\u001b[0m\u001b[1;33m,\u001b[0m \u001b[0my\u001b[0m\u001b[1;33m=\u001b[0m\u001b[0moutputs\u001b[0m\u001b[1;33m,\u001b[0m \u001b[0mdim\u001b[0m\u001b[1;33m=\u001b[0m\u001b[0mdim\u001b[0m\u001b[1;33m)\u001b[0m\u001b[1;33m\u001b[0m\u001b[0m\n\u001b[0m\u001b[0;32m      4\u001b[0m     \u001b[0mnew_input\u001b[0m \u001b[1;33m=\u001b[0m \u001b[0mnew_output\u001b[0m \u001b[1;33m=\u001b[0m \u001b[1;33m[\u001b[0m\u001b[1;33m]\u001b[0m\u001b[1;33m\u001b[0m\u001b[0m\n\u001b[0;32m      5\u001b[0m     \u001b[1;32mif\u001b[0m \u001b[0minputs\u001b[0m \u001b[1;32mis\u001b[0m \u001b[1;32mnot\u001b[0m \u001b[0mNone\u001b[0m\u001b[1;33m:\u001b[0m\u001b[1;33m\u001b[0m\u001b[0m\n",
        "\u001b[1;32mC:\\Anaconda\\lib\\site-packages\\da\\macros_3_4_400\\gtdr\\builder.pyc\u001b[0m in \u001b[0;36mbuild\u001b[1;34m(self, x, y, dim, error, blackbox, budget, options)\u001b[0m\n\u001b[0;32m    195\u001b[0m     \u001b[1;32mtry\u001b[0m\u001b[1;33m:\u001b[0m\u001b[1;33m\u001b[0m\u001b[0m\n\u001b[0;32m    196\u001b[0m       \u001b[1;32mtry\u001b[0m\u001b[1;33m:\u001b[0m\u001b[1;33m\u001b[0m\u001b[0m\n\u001b[1;32m--> 197\u001b[1;33m         \u001b[1;32mwhile\u001b[0m \u001b[0mit\u001b[0m\u001b[1;33m.\u001b[0m\u001b[0mproceed\u001b[0m\u001b[1;33m(\u001b[0m\u001b[1;33m)\u001b[0m\u001b[1;33m:\u001b[0m\u001b[1;33m\u001b[0m\u001b[0m\n\u001b[0m\u001b[0;32m    198\u001b[0m           \u001b[0maction\u001b[0m \u001b[1;33m=\u001b[0m \u001b[0mit\u001b[0m\u001b[1;33m.\u001b[0m\u001b[0mget_required_action\u001b[0m\u001b[1;33m(\u001b[0m\u001b[1;33m)\u001b[0m\u001b[1;33m\u001b[0m\u001b[0m\n\u001b[0;32m    199\u001b[0m           \u001b[1;32mif\u001b[0m \u001b[0maction\u001b[0m \u001b[1;33m==\u001b[0m \u001b[0miterator\u001b[0m\u001b[1;33m.\u001b[0m\u001b[0mGT_DR_REQUIRED_ACTION_NONE\u001b[0m\u001b[1;33m:\u001b[0m\u001b[1;33m\u001b[0m\u001b[0m\n",
        "\u001b[1;32mC:\\Anaconda\\lib\\site-packages\\da\\macros_3_4_400\\iterator.pyc\u001b[0m in \u001b[0;36mproceed\u001b[1;34m(self)\u001b[0m\n\u001b[0;32m    175\u001b[0m     \u001b[1;34m\"\"\"Proceed to the next step.\"\"\"\u001b[0m\u001b[1;33m\u001b[0m\u001b[0m\n\u001b[0;32m    176\u001b[0m     \u001b[0mgo\u001b[0m \u001b[1;33m=\u001b[0m \u001b[0mctypes\u001b[0m\u001b[1;33m.\u001b[0m\u001b[0mc_short\u001b[0m\u001b[1;33m(\u001b[0m\u001b[1;33m)\u001b[0m\u001b[1;33m\u001b[0m\u001b[0m\n\u001b[1;32m--> 177\u001b[1;33m     \u001b[0merr\u001b[0m \u001b[1;33m=\u001b[0m \u001b[0m_PPROCEED\u001b[0m\u001b[1;33m(\u001b[0m\u001b[1;33m(\u001b[0m\u001b[0mself\u001b[0m\u001b[1;33m.\u001b[0m\u001b[0m__proceed\u001b[0m\u001b[1;33m,\u001b[0m \u001b[0m_shared\u001b[0m\u001b[1;33m.\u001b[0m\u001b[0m_library\u001b[0m\u001b[1;33m)\u001b[0m\u001b[1;33m)\u001b[0m\u001b[1;33m(\u001b[0m\u001b[0mself\u001b[0m\u001b[1;33m.\u001b[0m\u001b[0m__instance\u001b[0m\u001b[1;33m,\u001b[0m \u001b[0mctypes\u001b[0m\u001b[1;33m.\u001b[0m\u001b[0mbyref\u001b[0m\u001b[1;33m(\u001b[0m\u001b[0mgo\u001b[0m\u001b[1;33m)\u001b[0m\u001b[1;33m)\u001b[0m\u001b[1;33m\u001b[0m\u001b[0m\n\u001b[0m\u001b[0;32m    178\u001b[0m     \u001b[0mself\u001b[0m\u001b[1;33m.\u001b[0m\u001b[0m__check_error\u001b[0m\u001b[1;33m(\u001b[0m\u001b[0merr\u001b[0m\u001b[1;33m,\u001b[0m \u001b[0mself\u001b[0m\u001b[1;33m.\u001b[0m\u001b[0m__proceed\u001b[0m\u001b[1;33m)\u001b[0m\u001b[1;33m\u001b[0m\u001b[0m\n\u001b[0;32m    179\u001b[0m     \u001b[1;32mreturn\u001b[0m \u001b[0mgo\u001b[0m\u001b[1;33m.\u001b[0m\u001b[0mvalue\u001b[0m\u001b[1;33m\u001b[0m\u001b[0m\n",
        "\u001b[1;31mKeyboardInterrupt\u001b[0m: "
       ]
      }
     ],
     "prompt_number": 7
    },
    {
     "cell_type": "code",
     "collapsed": false,
     "input": [
      "my_plot (indices, graph, 'dim', 'MAE', 'MAE/dimension', 'input_dimension_reduction.png')"
     ],
     "language": "python",
     "metadata": {},
     "outputs": [],
     "prompt_number": 11
    },
    {
     "cell_type": "code",
     "collapsed": false,
     "input": [
      "print '-------------------------Approximation (reduced input)-----------------'\n",
      "mae_train = []\n",
      "mae_test = []\n",
      "for d in new_data:\n",
      "    [train_x, train_y, test_x, test_y] = get_data (d['input'], outputs, {5,10})\n",
      "    print 'Compressed_dim of input: ',d['model'].compressed_dim\n",
      "    [train_prediction, test_prediction] = approx ()\n",
      "    mae_train.append (mae (train_prediction,train_y))\n",
      "    mae_test.append (mae (test_prediction, test_y))\n",
      "    print 'MAE/Train: ', mae_train[-1]\n",
      "    print 'MAE/Test: ', mae_test[-1]\n",
      "    print '--------------------------------'"
     ],
     "language": "python",
     "metadata": {},
     "outputs": [
      {
       "output_type": "stream",
       "stream": "stdout",
       "text": [
        "-------------------------Approximation (reduced input)-----------------\n",
        "Compressed_dim of input:  1\n",
        "MAE/Train: "
       ]
      },
      {
       "output_type": "stream",
       "stream": "stdout",
       "text": [
        " 3.15553660935\n",
        "MAE/Test:  3.17101018345\n",
        "--------------------------------\n",
        "Compressed_dim of input:  4\n",
        "MAE/Train: "
       ]
      },
      {
       "output_type": "stream",
       "stream": "stdout",
       "text": [
        " 1.24824534739\n",
        "MAE/Test:  1.74985602931\n",
        "--------------------------------\n",
        "Compressed_dim of input:  7\n",
        "MAE/Train: "
       ]
      },
      {
       "output_type": "stream",
       "stream": "stdout",
       "text": [
        " 0.543165615504\n",
        "MAE/Test:  1.59474350393\n",
        "--------------------------------\n",
        "Compressed_dim of input:  10\n",
        "MAE/Train: "
       ]
      },
      {
       "output_type": "stream",
       "stream": "stdout",
       "text": [
        " 0.403381022115\n",
        "MAE/Test:  1.09088577747\n",
        "--------------------------------\n",
        "Compressed_dim of input:  13\n",
        "MAE/Train: "
       ]
      },
      {
       "output_type": "stream",
       "stream": "stdout",
       "text": [
        " 0.294061360049\n",
        "MAE/Test:  0.419353468259\n",
        "--------------------------------\n",
        "Compressed_dim of input:  16\n",
        "MAE/Train: "
       ]
      },
      {
       "output_type": "stream",
       "stream": "stdout",
       "text": [
        " 0.163515510294\n",
        "MAE/Test:  0.287553990326\n",
        "--------------------------------\n",
        "Compressed_dim of input:  19\n",
        "MAE/Train: "
       ]
      },
      {
       "output_type": "stream",
       "stream": "stdout",
       "text": [
        " 0.128716607848\n",
        "MAE/Test:  0.302405199075\n",
        "--------------------------------\n",
        "Compressed_dim of input:  22\n",
        "MAE/Train: "
       ]
      },
      {
       "output_type": "stream",
       "stream": "stdout",
       "text": [
        " 0.0928670823858\n",
        "MAE/Test:  0.169304259898\n",
        "--------------------------------\n",
        "Compressed_dim of input:  25\n",
        "MAE/Train: "
       ]
      },
      {
       "output_type": "stream",
       "stream": "stdout",
       "text": [
        " 0.0815416143616\n",
        "MAE/Test:  0.186668969912\n",
        "--------------------------------\n",
        "Compressed_dim of input:  28\n",
        "MAE/Train: "
       ]
      },
      {
       "output_type": "stream",
       "stream": "stdout",
       "text": [
        " 0.0467054031209\n",
        "MAE/Test:  0.107126875837\n",
        "--------------------------------\n",
        "Compressed_dim of input:  31\n",
        "MAE/Train: "
       ]
      },
      {
       "output_type": "stream",
       "stream": "stdout",
       "text": [
        " 0.057934865827\n",
        "MAE/Test:  0.0689424686039\n",
        "--------------------------------\n",
        "Compressed_dim of input:  34\n",
        "MAE/Train: "
       ]
      },
      {
       "output_type": "stream",
       "stream": "stdout",
       "text": [
        " 0.0417373434541\n",
        "MAE/Test:  0.0540474518849\n",
        "--------------------------------\n",
        "Compressed_dim of input:  37\n",
        "MAE/Train: "
       ]
      },
      {
       "output_type": "stream",
       "stream": "stdout",
       "text": [
        " 0.0299021117132\n",
        "MAE/Test:  0.0356419675828\n",
        "--------------------------------\n",
        "Compressed_dim of input:  40\n",
        "MAE/Train: "
       ]
      },
      {
       "output_type": "stream",
       "stream": "stdout",
       "text": [
        " 0.0191410633337\n",
        "MAE/Test:  0.0273149834417\n",
        "--------------------------------\n",
        "Compressed_dim of input:  43\n",
        "MAE/Train: "
       ]
      },
      {
       "output_type": "stream",
       "stream": "stdout",
       "text": [
        " 0.0127823380422\n",
        "MAE/Test:  0.0235883709559\n",
        "--------------------------------\n",
        "Compressed_dim of input:  46\n",
        "MAE/Train: "
       ]
      },
      {
       "output_type": "stream",
       "stream": "stdout",
       "text": [
        " 0.00913653837079\n",
        "MAE/Test:  0.0167217700502\n",
        "--------------------------------\n",
        "Compressed_dim of input:  49\n",
        "MAE/Train: "
       ]
      },
      {
       "output_type": "stream",
       "stream": "stdout",
       "text": [
        " 0.00603931688785\n",
        "MAE/Test:  0.0129480658037\n",
        "--------------------------------\n",
        "Compressed_dim of input:  52\n",
        "MAE/Train: "
       ]
      },
      {
       "output_type": "stream",
       "stream": "stdout",
       "text": [
        " 0.00385021985408\n",
        "MAE/Test:  0.00721346571896\n",
        "--------------------------------\n",
        "Compressed_dim of input:  55\n",
        "MAE/Train: "
       ]
      },
      {
       "output_type": "stream",
       "stream": "stdout",
       "text": [
        " 0.00136293351485\n",
        "MAE/Test:  0.00517721796352\n",
        "--------------------------------\n"
       ]
      }
     ],
     "prompt_number": 19
    },
    {
     "cell_type": "code",
     "collapsed": false,
     "input": [
      "my_plot (indices, mae_train, mae_test, 'dim', 'MAE', 'MAE for approximation based on reduced input',\n",
      "    'approximation_reduced_input.eps')"
     ],
     "language": "python",
     "metadata": {},
     "outputs": [],
     "prompt_number": 22
    },
    {
     "cell_type": "code",
     "collapsed": false,
     "input": [
      "print '-----------------------Outputs dimension reduction----------------'\n",
      "graph = []\n",
      "new_data = []\n",
      "indices = range (1,58,3)\n",
      "for i in indices:\n",
      "    out = reduce_dim (i,inputs=outputs)\n",
      "    new_data.append (out)\n",
      "    graph.append (mae(out['model'].decompress(out['input']),outputs))\n",
      "    print i, graph[-1]\n",
      "y_reduction = new_data[:]"
     ],
     "language": "python",
     "metadata": {},
     "outputs": [
      {
       "output_type": "stream",
       "stream": "stdout",
       "text": [
        "-----------------------Outputs dimension reduction----------------\n",
        "1"
       ]
      },
      {
       "output_type": "stream",
       "stream": "stdout",
       "text": [
        " 3.38361844194\n",
        "4"
       ]
      },
      {
       "output_type": "stream",
       "stream": "stdout",
       "text": [
        " 1.07710258169\n",
        "7"
       ]
      },
      {
       "output_type": "stream",
       "stream": "stdout",
       "text": [
        " 0.524105367968\n",
        "10"
       ]
      },
      {
       "output_type": "stream",
       "stream": "stdout",
       "text": [
        " 0.358688156809\n",
        "13"
       ]
      },
      {
       "output_type": "stream",
       "stream": "stdout",
       "text": [
        " 0.36131602019\n",
        "16"
       ]
      },
      {
       "output_type": "stream",
       "stream": "stdout",
       "text": [
        " 0.265567704515\n",
        "19"
       ]
      },
      {
       "output_type": "stream",
       "stream": "stdout",
       "text": [
        " 0.144133133238\n",
        "22"
       ]
      },
      {
       "output_type": "stream",
       "stream": "stdout",
       "text": [
        " 0.0978553940264\n",
        "25"
       ]
      },
      {
       "output_type": "stream",
       "stream": "stdout",
       "text": [
        " 0.075644115712\n",
        "28"
       ]
      },
      {
       "output_type": "stream",
       "stream": "stdout",
       "text": [
        " 0.0496793150242\n",
        "31"
       ]
      },
      {
       "output_type": "stream",
       "stream": "stdout",
       "text": [
        " 0.0437917125908\n",
        "34"
       ]
      },
      {
       "output_type": "stream",
       "stream": "stdout",
       "text": [
        " 0.0324915477842\n",
        "37"
       ]
      },
      {
       "output_type": "stream",
       "stream": "stdout",
       "text": [
        " 0.0261199349087\n",
        "40"
       ]
      },
      {
       "output_type": "stream",
       "stream": "stdout",
       "text": [
        " 0.0120302195391\n",
        "43"
       ]
      },
      {
       "output_type": "stream",
       "stream": "stdout",
       "text": [
        " 0.0128494515166\n",
        "46"
       ]
      },
      {
       "output_type": "stream",
       "stream": "stdout",
       "text": [
        " 0.00774403336567\n",
        "49"
       ]
      },
      {
       "output_type": "stream",
       "stream": "stdout",
       "text": [
        " 0.00610480552325\n",
        "52"
       ]
      },
      {
       "output_type": "stream",
       "stream": "stdout",
       "text": [
        " 0.00373201727808\n",
        "55"
       ]
      },
      {
       "output_type": "stream",
       "stream": "stdout",
       "text": [
        " 0.00140277255538\n"
       ]
      }
     ],
     "prompt_number": 8
    },
    {
     "cell_type": "code",
     "collapsed": false,
     "input": [
      "my_plot (indices, graph, 'dim', 'MAE', 'MAE/dimension', 'output_dimension_reduction.png')"
     ],
     "language": "python",
     "metadata": {},
     "outputs": [
      {
       "output_type": "stream",
       "stream": "stdout",
       "text": [
        "-----------------------Outputs dimension reduction----------------\n",
        "1"
       ]
      },
      {
       "output_type": "stream",
       "stream": "stdout",
       "text": [
        " 3.38361844194\n",
        "4"
       ]
      },
      {
       "output_type": "stream",
       "stream": "stdout",
       "text": [
        " 1.07710258169\n",
        "7"
       ]
      },
      {
       "output_type": "stream",
       "stream": "stdout",
       "text": [
        " 0.524105367968\n",
        "10"
       ]
      },
      {
       "output_type": "stream",
       "stream": "stdout",
       "text": [
        " 0.358688156809\n",
        "13"
       ]
      },
      {
       "output_type": "stream",
       "stream": "stdout",
       "text": [
        " 0.36131602019\n",
        "16"
       ]
      },
      {
       "output_type": "stream",
       "stream": "stdout",
       "text": [
        " 0.265567704515\n",
        "19"
       ]
      },
      {
       "output_type": "stream",
       "stream": "stdout",
       "text": [
        " 0.144133133238\n",
        "22"
       ]
      },
      {
       "output_type": "stream",
       "stream": "stdout",
       "text": [
        " 0.0978553940264\n",
        "25"
       ]
      },
      {
       "output_type": "stream",
       "stream": "stdout",
       "text": [
        " 0.075644115712\n",
        "28"
       ]
      },
      {
       "output_type": "stream",
       "stream": "stdout",
       "text": [
        " 0.0496793150242\n",
        "31"
       ]
      },
      {
       "output_type": "stream",
       "stream": "stdout",
       "text": [
        " 0.0437917125908\n",
        "34"
       ]
      },
      {
       "output_type": "stream",
       "stream": "stdout",
       "text": [
        " 0.0324915477842\n",
        "37"
       ]
      },
      {
       "output_type": "stream",
       "stream": "stdout",
       "text": [
        " 0.0261199349087\n",
        "40"
       ]
      },
      {
       "output_type": "stream",
       "stream": "stdout",
       "text": [
        " 0.0120302195391\n",
        "43"
       ]
      },
      {
       "output_type": "stream",
       "stream": "stdout",
       "text": [
        " 0.0128494515166\n",
        "46"
       ]
      },
      {
       "output_type": "stream",
       "stream": "stdout",
       "text": [
        " 0.00774403336567\n",
        "49"
       ]
      },
      {
       "output_type": "stream",
       "stream": "stdout",
       "text": [
        " 0.00610480552325\n",
        "52"
       ]
      },
      {
       "output_type": "stream",
       "stream": "stdout",
       "text": [
        " 0.00373201727808\n",
        "55"
       ]
      },
      {
       "output_type": "stream",
       "stream": "stdout",
       "text": [
        " 0.00140277255538\n"
       ]
      }
     ],
     "prompt_number": 22
    },
    {
     "cell_type": "code",
     "collapsed": false,
     "input": [
      "print '-------------------------Approximation (reduced output)-----------------'\n",
      "mae_train = []\n",
      "mae_test = []\n",
      "for d in new_data:\n",
      "    [train_x, train_y, test_x, test_y] = get_data (inputs, d['input'], {5,10})\n",
      "    print 'Compressed_dim of output: ',d['model'].compressed_dim\n",
      "    [train_prediction, test_prediction] = approx ()\n",
      "    [t1,check_train, t2, check_test] = get_data (inputs, outputs, {5,10})\n",
      "    mae_train.append (mae (d['model'].decompress (train_prediction), check_train))\n",
      "    mae_test.append (mae (d['model'].decompress (test_prediction), check_test))\n",
      "    print 'MAE/Train: ', mae_train[-1]\n",
      "    print 'MAE/Test: ', mae_test[-1]\n",
      "    print '--------------------------------'"
     ],
     "language": "python",
     "metadata": {},
     "outputs": [
      {
       "output_type": "stream",
       "stream": "stdout",
       "text": [
        "-------------------------Approximation (reduced output)-----------------\n",
        "Compressed_dim of output:  1\n",
        "MAE/Train: "
       ]
      },
      {
       "output_type": "stream",
       "stream": "stdout",
       "text": [
        " 3.39143133485\n",
        "MAE/Test:  3.11859652538\n",
        "--------------------------------\n",
        "Compressed_dim of output:  4\n",
        "MAE/Train: "
       ]
      },
      {
       "output_type": "stream",
       "stream": "stdout",
       "text": [
        " 1.09330546324\n",
        "MAE/Test:  0.844286770658\n",
        "--------------------------------\n",
        "Compressed_dim of output:  7\n",
        "MAE/Train: "
       ]
      },
      {
       "output_type": "stream",
       "stream": "stdout",
       "text": [
        " 0.556663666043\n",
        "MAE/Test:  0.782133341208\n",
        "--------------------------------\n",
        "Compressed_dim of output:  10\n",
        "MAE/Train: "
       ]
      },
      {
       "output_type": "stream",
       "stream": "stdout",
       "text": [
        " 0.397055893207\n",
        "MAE/Test:  0.520706833045\n",
        "--------------------------------\n",
        "Compressed_dim of output:  13\n",
        "MAE/Train: "
       ]
      },
      {
       "output_type": "stream",
       "stream": "stdout",
       "text": [
        " 0.471191046127\n",
        "MAE/Test:  0.664397016907\n",
        "--------------------------------\n",
        "Compressed_dim of output:  16\n",
        "MAE/Train: "
       ]
      },
      {
       "output_type": "stream",
       "stream": "stdout",
       "text": [
        " 0.38816877028\n",
        "MAE/Test:  0.625379135925\n",
        "--------------------------------\n",
        "Compressed_dim of output:  19\n",
        "MAE/Train: "
       ]
      },
      {
       "output_type": "stream",
       "stream": "stdout",
       "text": [
        " 0.267322901329\n",
        "MAE/Test:  0.606481189684\n",
        "--------------------------------\n",
        "Compressed_dim of output:  22\n",
        "MAE/Train: "
       ]
      },
      {
       "output_type": "stream",
       "stream": "stdout",
       "text": [
        " 0.231673410049\n",
        "MAE/Test:  0.460924319256\n",
        "--------------------------------\n",
        "Compressed_dim of output:  25\n",
        "MAE/Train: "
       ]
      },
      {
       "output_type": "stream",
       "stream": "stdout",
       "text": [
        " 0.478175907343\n",
        "MAE/Test:  0.967077076953\n",
        "--------------------------------\n",
        "Compressed_dim of output:  28\n",
        "MAE/Train: "
       ]
      },
      {
       "output_type": "stream",
       "stream": "stdout",
       "text": [
        " 0.246768365232\n",
        "MAE/Test:  0.596616560062\n",
        "--------------------------------\n",
        "Compressed_dim of output:  31\n",
        "MAE/Train: "
       ]
      },
      {
       "output_type": "stream",
       "stream": "stdout",
       "text": [
        " 0.466992010663\n",
        "MAE/Test:  0.946321147661\n",
        "--------------------------------\n",
        "Compressed_dim of output:  34\n",
        "MAE/Train: "
       ]
      },
      {
       "output_type": "stream",
       "stream": "stdout",
       "text": [
        " 0.461895695916\n",
        "MAE/Test:  0.948752886942\n",
        "--------------------------------\n",
        "Compressed_dim of output:  37\n",
        "MAE/Train: "
       ]
      },
      {
       "output_type": "stream",
       "stream": "stdout",
       "text": [
        " 0.458434105435\n",
        "MAE/Test:  0.949569469805\n",
        "--------------------------------\n",
        "Compressed_dim of output:  40\n",
        "MAE/Train: "
       ]
      },
      {
       "output_type": "stream",
       "stream": "stdout",
       "text": [
        " 0.452763619136\n",
        "MAE/Test:  0.966150418888\n",
        "--------------------------------\n",
        "Compressed_dim of output:  43\n",
        "MAE/Train: "
       ]
      },
      {
       "output_type": "stream",
       "stream": "stdout",
       "text": [
        " 0.449405044979\n",
        "MAE/Test:  0.999418253354\n",
        "--------------------------------\n",
        "Compressed_dim of output:  46\n",
        "MAE/Train: "
       ]
      },
      {
       "output_type": "stream",
       "stream": "stdout",
       "text": [
        " 0.448240500783\n",
        "MAE/Test:  1.0177141483\n",
        "--------------------------------\n",
        "Compressed_dim of output:  49\n",
        "MAE/Train: "
       ]
      },
      {
       "output_type": "stream",
       "stream": "stdout",
       "text": [
        " 0.447454764609\n",
        "MAE/Test:  1.05312842943\n",
        "--------------------------------\n",
        "Compressed_dim of output:  52\n",
        "MAE/Train: "
       ]
      },
      {
       "output_type": "stream",
       "stream": "stdout",
       "text": [
        " 0.447439361823\n",
        "MAE/Test:  1.09082453722\n",
        "--------------------------------\n",
        "Compressed_dim of output:  55\n",
        "MAE/Train: "
       ]
      },
      {
       "output_type": "stream",
       "stream": "stdout",
       "text": [
        " 0.447745850613\n",
        "MAE/Test:  1.12107389975\n",
        "--------------------------------\n"
       ]
      }
     ],
     "prompt_number": 9
    },
    {
     "cell_type": "code",
     "collapsed": false,
     "input": [
      "my_plot (indices, mae_train, mae_test, 'dim', 'MAE', 'MAE/Train for approximation based on reduced output',\n",
      "    'approximation_reduced_output.png')\n"
     ],
     "language": "python",
     "metadata": {},
     "outputs": [],
     "prompt_number": 11
    },
    {
     "cell_type": "code",
     "collapsed": false,
     "input": [
      "#this computation take a lot of time\n",
      "print '-----------------------Inputs and outputs dimension reduction----------------'\n",
      "heatmap_train = []\n",
      "heatmap_test = []\n",
      "i=-1\n",
      "for x in x_reduction:\n",
      "    heatmap_train.append ([])\n",
      "    heatmap_test.append ([])\n",
      "    i+=1\n",
      "    for y in y_reduction:\n",
      "        [train_x, train_y, test_x, test_y] = get_data (x['input'], y['input'], {5,10})\n",
      "        [train_prediction, test_prediction] = approx ()\n",
      "        [t1,check_train, t2, check_test] = get_data (inputs, outputs, {5,10})\n",
      "        heatmap_train[i].append (mae(y['model'].decompress(train_prediction),check_train))\n",
      "        heatmap_test[i].append (mae(y['model'].decompress(test_prediction),check_test))\n",
      "        print heatmap_train[i][-1], heatmap_test[i][-1]\n"
     ],
     "language": "python",
     "metadata": {},
     "outputs": [
      {
       "output_type": "stream",
       "stream": "stdout",
       "text": [
        "-----------------------Inputs and outputs dimension reduction----------------\n",
        "5.76012571907"
       ]
      },
      {
       "output_type": "stream",
       "stream": "stdout",
       "text": [
        " 8.79652855301\n",
        "4.60560257647"
       ]
      },
      {
       "output_type": "stream",
       "stream": "stdout",
       "text": [
        " 6.30141200316\n",
        "4.48519692051"
       ]
      },
      {
       "output_type": "stream",
       "stream": "stdout",
       "text": [
        " 6.28112887919\n",
        "4.49090194867"
       ]
      },
      {
       "output_type": "stream",
       "stream": "stdout",
       "text": [
        " 5.92486103013\n",
        "4.5971155244"
       ]
      },
      {
       "output_type": "stream",
       "stream": "stdout",
       "text": [
        " 6.26301234327\n",
        "4.52095260316"
       ]
      },
      {
       "output_type": "stream",
       "stream": "stdout",
       "text": [
        " 6.30359780555\n",
        "4.66116434398"
       ]
      },
      {
       "output_type": "stream",
       "stream": "stdout",
       "text": [
        " 7.10091157106\n",
        "4.59913395432"
       ]
      },
      {
       "output_type": "stream",
       "stream": "stdout",
       "text": [
        " 6.20927191495\n",
        "4.58695827828"
       ]
      },
      {
       "output_type": "stream",
       "stream": "stdout",
       "text": [
        " 6.16259840223\n",
        "4.6622249449"
       ]
      },
      {
       "output_type": "stream",
       "stream": "stdout",
       "text": [
        " 7.12986337068\n",
        "4.66350879289"
       ]
      },
      {
       "output_type": "stream",
       "stream": "stdout",
       "text": [
        " 7.13174356039\n",
        "4.66373811954"
       ]
      },
      {
       "output_type": "stream",
       "stream": "stdout",
       "text": [
        " 7.13148855522\n",
        "4.6641318472"
       ]
      },
      {
       "output_type": "stream",
       "stream": "stdout",
       "text": [
        " 7.13127443642\n",
        "4.66491888233"
       ]
      },
      {
       "output_type": "stream",
       "stream": "stdout",
       "text": [
        " 7.13121283599\n",
        "4.66682285629"
       ]
      },
      {
       "output_type": "stream",
       "stream": "stdout",
       "text": [
        " 7.12970201379\n",
        "4.66840722533"
       ]
      },
      {
       "output_type": "stream",
       "stream": "stdout",
       "text": [
        " 7.12887669307\n",
        "4.67055371002"
       ]
      },
      {
       "output_type": "stream",
       "stream": "stdout",
       "text": [
        " 7.1293078055\n",
        "4.67278041286"
       ]
      },
      {
       "output_type": "stream",
       "stream": "stdout",
       "text": [
        " 7.13075319741\n",
        "4.67525922889"
       ]
      },
      {
       "output_type": "stream",
       "stream": "stdout",
       "text": [
        " 7.13304734421\n",
        "3.49193424505"
       ]
      },
      {
       "output_type": "stream",
       "stream": "stdout",
       "text": [
        " 3.39008864106\n",
        "1.78774413888"
       ]
      },
      {
       "output_type": "stream",
       "stream": "stdout",
       "text": [
        " 2.72411629662\n",
        "1.57048865566"
       ]
      },
      {
       "output_type": "stream",
       "stream": "stdout",
       "text": [
        " 2.25394809355\n",
        "1.46137648808"
       ]
      },
      {
       "output_type": "stream",
       "stream": "stdout",
       "text": [
        " 2.6488964508\n",
        "1.4555853879"
       ]
      },
      {
       "output_type": "stream",
       "stream": "stdout",
       "text": [
        " 2.46713429529\n",
        "1.54292736174"
       ]
      },
      {
       "output_type": "stream",
       "stream": "stdout",
       "text": [
        " 2.47889932127\n",
        "1.9476027279"
       ]
      },
      {
       "output_type": "stream",
       "stream": "stdout",
       "text": [
        " 1.89976823971\n",
        "1.38258946129"
       ]
      },
      {
       "output_type": "stream",
       "stream": "stdout",
       "text": [
        " 2.2496337589\n",
        "1.90828988037"
       ]
      },
      {
       "output_type": "stream",
       "stream": "stdout",
       "text": [
        " 2.57836473023\n",
        "1.60642615563"
       ]
      },
      {
       "output_type": "stream",
       "stream": "stdout",
       "text": [
        " 2.70897485656\n",
        "1.68132885085"
       ]
      },
      {
       "output_type": "stream",
       "stream": "stdout",
       "text": [
        " 2.36747567094\n",
        "2.34245925757"
       ]
      },
      {
       "output_type": "stream",
       "stream": "stdout",
       "text": [
        " 3.29862180101\n",
        "1.57636544916"
       ]
      },
      {
       "output_type": "stream",
       "stream": "stdout",
       "text": [
        " 2.04273848414\n",
        "1.54086423757"
       ]
      },
      {
       "output_type": "stream",
       "stream": "stdout",
       "text": [
        " 2.24661748407\n",
        "1.59318948228"
       ]
      },
      {
       "output_type": "stream",
       "stream": "stdout",
       "text": [
        " 2.12422480864\n",
        "1.75387780826"
       ]
      },
      {
       "output_type": "stream",
       "stream": "stdout",
       "text": [
        " 2.29612291836\n",
        "1.84128039259"
       ]
      },
      {
       "output_type": "stream",
       "stream": "stdout",
       "text": [
        " 2.47153970116\n",
        "1.81450396985"
       ]
      },
      {
       "output_type": "stream",
       "stream": "stdout",
       "text": [
        " 2.14229267547\n",
        "1.88497150182"
       ]
      },
      {
       "output_type": "stream",
       "stream": "stdout",
       "text": [
        " 2.20396178852\n",
        "3.38834567971"
       ]
      },
      {
       "output_type": "stream",
       "stream": "stdout",
       "text": [
        " 3.12864439118\n",
        "1.27357961948"
       ]
      },
      {
       "output_type": "stream",
       "stream": "stdout",
       "text": [
        " 1.46223526224\n",
        "0.919971056079"
       ]
      },
      {
       "output_type": "stream",
       "stream": "stdout",
       "text": [
        " 1.59509292546\n",
        "0.776711661654"
       ]
      },
      {
       "output_type": "stream",
       "stream": "stdout",
       "text": [
        " 1.37476078145\n",
        "0.816444115072"
       ]
      },
      {
       "output_type": "stream",
       "stream": "stdout",
       "text": [
        " 1.82774406131\n",
        "0.717526448433"
       ]
      },
      {
       "output_type": "stream",
       "stream": "stdout",
       "text": [
        " 1.40033332573\n",
        "0.828400869761"
       ]
      },
      {
       "output_type": "stream",
       "stream": "stdout",
       "text": [
        " 1.65852604541\n",
        "0.953334470294"
       ]
      },
      {
       "output_type": "stream",
       "stream": "stdout",
       "text": [
        " 1.55598082608\n",
        "1.33792459871"
       ]
      },
      {
       "output_type": "stream",
       "stream": "stdout",
       "text": [
        " 1.70123136586\n",
        "1.16215840777"
       ]
      },
      {
       "output_type": "stream",
       "stream": "stdout",
       "text": [
        " 1.8051054524\n",
        "1.28719092222"
       ]
      },
      {
       "output_type": "stream",
       "stream": "stdout",
       "text": [
        " 1.90784325313\n",
        "1.14037006027"
       ]
      },
      {
       "output_type": "stream",
       "stream": "stdout",
       "text": [
        " 1.83650694835\n",
        "1.43395355671"
       ]
      },
      {
       "output_type": "stream",
       "stream": "stdout",
       "text": [
        " 2.39692894502\n",
        "1.12683767691"
       ]
      },
      {
       "output_type": "stream",
       "stream": "stdout",
       "text": [
        " 1.65284315766\n",
        "2.04074095524"
       ]
      },
      {
       "output_type": "stream",
       "stream": "stdout",
       "text": [
        " 3.17676927959\n",
        "1.22381131731"
       ]
      },
      {
       "output_type": "stream",
       "stream": "stdout",
       "text": [
        " 2.98549133253\n",
        "1.32552915107"
       ]
      },
      {
       "output_type": "stream",
       "stream": "stdout",
       "text": [
        " 2.00298092184\n",
        "1.27913505623"
       ]
      },
      {
       "output_type": "stream",
       "stream": "stdout",
       "text": [
        " 1.60680765182\n",
        "1.60297350494"
       ]
      },
      {
       "output_type": "stream",
       "stream": "stdout",
       "text": [
        " 2.31840264367\n",
        "3.39476584421"
       ]
      },
      {
       "output_type": "stream",
       "stream": "stdout",
       "text": [
        " 3.16092955817\n",
        "1.153990195"
       ]
      },
      {
       "output_type": "stream",
       "stream": "stdout",
       "text": [
        " 1.51070080555\n",
        "0.828002493268"
       ]
      },
      {
       "output_type": "stream",
       "stream": "stdout",
       "text": [
        " 1.52059774901\n",
        "0.638331173442"
       ]
      },
      {
       "output_type": "stream",
       "stream": "stdout",
       "text": [
        " 1.13985184229\n",
        "0.642648785254"
       ]
      },
      {
       "output_type": "stream",
       "stream": "stdout",
       "text": [
        " 1.74041361095\n",
        "0.749896058633"
       ]
      },
      {
       "output_type": "stream",
       "stream": "stdout",
       "text": [
        " 0.995857738408\n",
        "0.801505549665"
       ]
      },
      {
       "output_type": "stream",
       "stream": "stdout",
       "text": [
        " 1.29912786008\n",
        "0.671657308435"
       ]
      },
      {
       "output_type": "stream",
       "stream": "stdout",
       "text": [
        " 1.2284283974\n",
        "0.846620622856"
       ]
      },
      {
       "output_type": "stream",
       "stream": "stdout",
       "text": [
        " 1.34244517683\n",
        "0.900616872835"
       ]
      },
      {
       "output_type": "stream",
       "stream": "stdout",
       "text": [
        " 1.53386487611\n",
        "1.07320690576"
       ]
      },
      {
       "output_type": "stream",
       "stream": "stdout",
       "text": [
        " 1.57925665494\n",
        "1.2096190938"
       ]
      },
      {
       "output_type": "stream",
       "stream": "stdout",
       "text": [
        " 1.89722707911\n",
        "0.944871553063"
       ]
      },
      {
       "output_type": "stream",
       "stream": "stdout",
       "text": [
        " 1.42213547656\n",
        "0.867515439441"
       ]
      },
      {
       "output_type": "stream",
       "stream": "stdout",
       "text": [
        " 1.34098492606\n",
        "1.57883045063"
       ]
      },
      {
       "output_type": "stream",
       "stream": "stdout",
       "text": [
        " 1.72040352526\n",
        "0.921174588257"
       ]
      },
      {
       "output_type": "stream",
       "stream": "stdout",
       "text": [
        " 1.6727705235\n",
        "1.22642547429"
       ]
      },
      {
       "output_type": "stream",
       "stream": "stdout",
       "text": [
        " 1.58323174296\n",
        "1.26617975504"
       ]
      },
      {
       "output_type": "stream",
       "stream": "stdout",
       "text": [
        " 1.61458640663\n",
        "1.31106745102"
       ]
      },
      {
       "output_type": "stream",
       "stream": "stdout",
       "text": [
        " 1.65036150339\n",
        "3.39520521801"
       ]
      },
      {
       "output_type": "stream",
       "stream": "stdout",
       "text": [
        " 3.56502042942\n",
        "1.17244380089"
       ]
      },
      {
       "output_type": "stream",
       "stream": "stdout",
       "text": [
        " 1.11601671842\n",
        "0.714010107553"
       ]
      },
      {
       "output_type": "stream",
       "stream": "stdout",
       "text": [
        " 1.13413072928\n",
        "0.582883249747"
       ]
      },
      {
       "output_type": "stream",
       "stream": "stdout",
       "text": [
        " 1.00990731489\n",
        "0.670105321729"
       ]
      },
      {
       "output_type": "stream",
       "stream": "stdout",
       "text": [
        " 1.2559950829\n",
        "0.612675503767"
       ]
      },
      {
       "output_type": "stream",
       "stream": "stdout",
       "text": [
        " 0.791264328563\n",
        "0.609508032723"
       ]
      },
      {
       "output_type": "stream",
       "stream": "stdout",
       "text": [
        " 1.0885549071\n",
        "0.60149504166"
       ]
      },
      {
       "output_type": "stream",
       "stream": "stdout",
       "text": [
        " 1.16280694103\n",
        "0.782888166033"
       ]
      },
      {
       "output_type": "stream",
       "stream": "stdout",
       "text": [
        " 1.27641679541\n",
        "0.777696530828"
       ]
      },
      {
       "output_type": "stream",
       "stream": "stdout",
       "text": [
        " 1.30042789545\n",
        "0.89858206467"
       ]
      },
      {
       "output_type": "stream",
       "stream": "stdout",
       "text": [
        " 1.32522440308\n",
        "0.559663600344"
       ]
      },
      {
       "output_type": "stream",
       "stream": "stdout",
       "text": [
        " 0.930785117247\n",
        "0.742021815644"
       ]
      },
      {
       "output_type": "stream",
       "stream": "stdout",
       "text": [
        " 1.09715665435\n",
        "0.90343916783"
       ]
      },
      {
       "output_type": "stream",
       "stream": "stdout",
       "text": [
        " 1.45380727762\n",
        "1.00391401694"
       ]
      },
      {
       "output_type": "stream",
       "stream": "stdout",
       "text": [
        " 1.36239094517\n",
        "1.03677326484"
       ]
      },
      {
       "output_type": "stream",
       "stream": "stdout",
       "text": [
        " 1.38665690244\n",
        "1.0795809025"
       ]
      },
      {
       "output_type": "stream",
       "stream": "stdout",
       "text": [
        " 1.42526999662\n",
        "1.12531517426"
       ]
      },
      {
       "output_type": "stream",
       "stream": "stdout",
       "text": [
        " 1.47211341751\n",
        "1.17817162991"
       ]
      },
      {
       "output_type": "stream",
       "stream": "stdout",
       "text": [
        " 1.53155679754\n",
        "3.3920351835"
       ]
      },
      {
       "output_type": "stream",
       "stream": "stdout",
       "text": [
        " 3.17568456762\n",
        "1.08784274478"
       ]
      },
      {
       "output_type": "stream",
       "stream": "stdout",
       "text": [
        " 1.08140728034\n",
        "0.642212239632"
       ]
      },
      {
       "output_type": "stream",
       "stream": "stdout",
       "text": [
        " 0.81322862779\n",
        "0.502944896076"
       ]
      },
      {
       "output_type": "stream",
       "stream": "stdout",
       "text": [
        " 0.651109923628\n",
        "0.586270342633"
       ]
      },
      {
       "output_type": "stream",
       "stream": "stdout",
       "text": [
        " 0.862008153863\n",
        "0.548711706546"
       ]
      },
      {
       "output_type": "stream",
       "stream": "stdout",
       "text": [
        " 0.801214602314\n",
        "0.650774096284"
       ]
      },
      {
       "output_type": "stream",
       "stream": "stdout",
       "text": [
        " 0.886257389274\n",
        "0.378008827625"
       ]
      },
      {
       "output_type": "stream",
       "stream": "stdout",
       "text": [
        " 0.898110891327\n",
        "0.495700418102"
       ]
      },
      {
       "output_type": "stream",
       "stream": "stdout",
       "text": [
        " 1.12577272891\n",
        "0.695371146595"
       ]
      },
      {
       "output_type": "stream",
       "stream": "stdout",
       "text": [
        " 1.13998460205\n",
        "0.795162206675"
       ]
      },
      {
       "output_type": "stream",
       "stream": "stdout",
       "text": [
        " 1.0261473935\n",
        "0.715502734969"
       ]
      },
      {
       "output_type": "stream",
       "stream": "stdout",
       "text": [
        " 1.13546844928\n",
        "0.638716369135"
       ]
      },
      {
       "output_type": "stream",
       "stream": "stdout",
       "text": [
        " 1.3055918922\n",
        "0.851536309221"
       ]
      },
      {
       "output_type": "stream",
       "stream": "stdout",
       "text": [
        " 1.18566563448\n",
        "0.883899705099"
       ]
      },
      {
       "output_type": "stream",
       "stream": "stdout",
       "text": [
        " 1.20734613232\n",
        "0.915195999857"
       ]
      },
      {
       "output_type": "stream",
       "stream": "stdout",
       "text": [
        " 1.23211949793\n",
        "0.956481047377"
       ]
      },
      {
       "output_type": "stream",
       "stream": "stdout",
       "text": [
        " 1.26901521169\n",
        "1.00284022891"
       ]
      },
      {
       "output_type": "stream",
       "stream": "stdout",
       "text": [
        " 1.31469167974\n",
        "1.05539617679"
       ]
      },
      {
       "output_type": "stream",
       "stream": "stdout",
       "text": [
        " 1.3770009323\n",
        "3.38671913034"
       ]
      },
      {
       "output_type": "stream",
       "stream": "stdout",
       "text": [
        " 3.10542515278\n",
        "1.08626798436"
       ]
      },
      {
       "output_type": "stream",
       "stream": "stdout",
       "text": [
        " 1.01289280793\n",
        "0.573637404674"
       ]
      },
      {
       "output_type": "stream",
       "stream": "stdout",
       "text": [
        " 0.612793419009\n",
        "0.423407945028"
       ]
      },
      {
       "output_type": "stream",
       "stream": "stdout",
       "text": [
        " 0.743409530498\n",
        "0.510100072131"
       ]
      },
      {
       "output_type": "stream",
       "stream": "stdout",
       "text": [
        " 0.870826223996\n",
        "0.411514194194"
       ]
      },
      {
       "output_type": "stream",
       "stream": "stdout",
       "text": [
        " 0.667030574637\n",
        "0.420881178116"
       ]
      },
      {
       "output_type": "stream",
       "stream": "stdout",
       "text": [
        " 0.699514424207\n",
        "0.453718939172"
       ]
      },
      {
       "output_type": "stream",
       "stream": "stdout",
       "text": [
        " 0.724700115432\n",
        "0.5416612492"
       ]
      },
      {
       "output_type": "stream",
       "stream": "stdout",
       "text": [
        " 0.743612445887\n",
        "0.416930224031"
       ]
      },
      {
       "output_type": "stream",
       "stream": "stdout",
       "text": [
        " 0.638647108073\n",
        "0.66914478616"
       ]
      },
      {
       "output_type": "stream",
       "stream": "stdout",
       "text": [
        " 1.00792218684\n",
        "0.592465375114"
       ]
      },
      {
       "output_type": "stream",
       "stream": "stdout",
       "text": [
        " 1.0443656963\n",
        "0.689644236489"
       ]
      },
      {
       "output_type": "stream",
       "stream": "stdout",
       "text": [
        " 1.03003132599\n",
        "0.707108505866"
       ]
      },
      {
       "output_type": "stream",
       "stream": "stdout",
       "text": [
        " 1.0499646759\n",
        "0.743536453139"
       ]
      },
      {
       "output_type": "stream",
       "stream": "stdout",
       "text": [
        " 1.0892696765\n",
        "0.779000247377"
       ]
      },
      {
       "output_type": "stream",
       "stream": "stdout",
       "text": [
        " 1.13140792385\n",
        "0.826787169324"
       ]
      },
      {
       "output_type": "stream",
       "stream": "stdout",
       "text": [
        " 1.19090378472\n",
        "0.879045681955"
       ]
      },
      {
       "output_type": "stream",
       "stream": "stdout",
       "text": [
        " 1.25536561113\n",
        "0.939078422065"
       ]
      },
      {
       "output_type": "stream",
       "stream": "stdout",
       "text": [
        " 1.33050494211\n",
        "3.39099278846"
       ]
      },
      {
       "output_type": "stream",
       "stream": "stdout",
       "text": [
        " 3.13629714453\n",
        "1.08958712694"
       ]
      },
      {
       "output_type": "stream",
       "stream": "stdout",
       "text": [
        " 0.888255288231\n",
        "0.578960976554"
       ]
      },
      {
       "output_type": "stream",
       "stream": "stdout",
       "text": [
        " 0.726596790322\n",
        "0.410732665179"
       ]
      },
      {
       "output_type": "stream",
       "stream": "stdout",
       "text": [
        " 0.548969713419\n",
        "0.50523207299"
       ]
      },
      {
       "output_type": "stream",
       "stream": "stdout",
       "text": [
        " 0.686117077275\n",
        "0.402761130362"
       ]
      },
      {
       "output_type": "stream",
       "stream": "stdout",
       "text": [
        " 0.661252194161\n",
        "0.360816254531"
       ]
      },
      {
       "output_type": "stream",
       "stream": "stdout",
       "text": [
        " 0.659907772444\n",
        "0.428458717504"
       ]
      },
      {
       "output_type": "stream",
       "stream": "stdout",
       "text": [
        " 0.806541446578\n",
        "0.43393375444"
       ]
      },
      {
       "output_type": "stream",
       "stream": "stdout",
       "text": [
        " 0.768194329395\n",
        "0.315873858951"
       ]
      },
      {
       "output_type": "stream",
       "stream": "stdout",
       "text": [
        " 0.544724498322\n",
        "0.391184077321"
       ]
      },
      {
       "output_type": "stream",
       "stream": "stdout",
       "text": [
        " 0.922274189471\n",
        "0.381481838904"
       ]
      },
      {
       "output_type": "stream",
       "stream": "stdout",
       "text": [
        " 0.674606220186\n",
        "0.643157103736"
       ]
      },
      {
       "output_type": "stream",
       "stream": "stdout",
       "text": [
        " 0.935636645533\n",
        "0.659805933133"
       ]
      },
      {
       "output_type": "stream",
       "stream": "stdout",
       "text": [
        " 0.951314005705\n",
        "0.695820814003"
       ]
      },
      {
       "output_type": "stream",
       "stream": "stdout",
       "text": [
        " 0.991472011734\n",
        "0.731445930309"
       ]
      },
      {
       "output_type": "stream",
       "stream": "stdout",
       "text": [
        " 1.03595333901\n",
        "0.779996103576"
       ]
      },
      {
       "output_type": "stream",
       "stream": "stdout",
       "text": [
        " 1.10122097169\n",
        "0.833892719547"
       ]
      },
      {
       "output_type": "stream",
       "stream": "stdout",
       "text": [
        " 1.1740112178\n",
        "0.895010181462"
       ]
      },
      {
       "output_type": "stream",
       "stream": "stdout",
       "text": [
        " 1.25403013004\n",
        "3.38664741595"
       ]
      },
      {
       "output_type": "stream",
       "stream": "stdout",
       "text": [
        " 3.08428689062\n",
        "1.09587173914"
       ]
      },
      {
       "output_type": "stream",
       "stream": "stdout",
       "text": [
        " 0.904320755559\n",
        "0.564862997741"
       ]
      },
      {
       "output_type": "stream",
       "stream": "stdout",
       "text": [
        " 0.664687711752\n",
        "0.415661354354"
       ]
      },
      {
       "output_type": "stream",
       "stream": "stdout",
       "text": [
        " 0.625721246671\n",
        "0.47190808983"
       ]
      },
      {
       "output_type": "stream",
       "stream": "stdout",
       "text": [
        " 0.578443734949\n",
        "0.412815471251"
       ]
      },
      {
       "output_type": "stream",
       "stream": "stdout",
       "text": [
        " 0.599238723581\n",
        "0.354298705968"
       ]
      },
      {
       "output_type": "stream",
       "stream": "stdout",
       "text": [
        " 0.672648054858\n",
        "0.424133965123"
       ]
      },
      {
       "output_type": "stream",
       "stream": "stdout",
       "text": [
        " 0.687138132389\n",
        "0.317509442602"
       ]
      },
      {
       "output_type": "stream",
       "stream": "stdout",
       "text": [
        " 0.813021876215\n",
        "0.341747688851"
       ]
      },
      {
       "output_type": "stream",
       "stream": "stdout",
       "text": [
        " 0.641368596154\n",
        "0.424071992176"
       ]
      },
      {
       "output_type": "stream",
       "stream": "stdout",
       "text": [
        " 0.568801403861\n",
        "0.376570361681"
       ]
      },
      {
       "output_type": "stream",
       "stream": "stdout",
       "text": [
        " 0.880794407218\n",
        "0.353273141431"
       ]
      },
      {
       "output_type": "stream",
       "stream": "stdout",
       "text": [
        " 0.711061320032\n",
        "0.602045408191"
       ]
      },
      {
       "output_type": "stream",
       "stream": "stdout",
       "text": [
        " 1.04233014388\n",
        "0.63705321196"
       ]
      },
      {
       "output_type": "stream",
       "stream": "stdout",
       "text": [
        " 1.06094912584\n",
        "0.672786522323"
       ]
      },
      {
       "output_type": "stream",
       "stream": "stdout",
       "text": [
        " 1.09266640748\n",
        "0.722617147638"
       ]
      },
      {
       "output_type": "stream",
       "stream": "stdout",
       "text": [
        " 1.14338524482\n",
        "0.778632627398"
       ]
      },
      {
       "output_type": "stream",
       "stream": "stdout",
       "text": [
        " 1.20549932188\n",
        "0.842255894396"
       ]
      },
      {
       "output_type": "stream",
       "stream": "stdout",
       "text": [
        " 1.28058921853\n",
        "3.38834248198"
       ]
      },
      {
       "output_type": "stream",
       "stream": "stdout",
       "text": [
        " 3.1211393927\n",
        "1.08629763131"
       ]
      },
      {
       "output_type": "stream",
       "stream": "stdout",
       "text": [
        " 0.925035142565\n",
        "0.566840037911"
       ]
      },
      {
       "output_type": "stream",
       "stream": "stdout",
       "text": [
        " 0.807000331471\n",
        "0.429827259735"
       ]
      },
      {
       "output_type": "stream",
       "stream": "stdout",
       "text": [
        " 0.513133788201\n",
        "0.480661012797"
       ]
      },
      {
       "output_type": "stream",
       "stream": "stdout",
       "text": [
        " 0.563851798625\n",
        "0.392768842236"
       ]
      },
      {
       "output_type": "stream",
       "stream": "stdout",
       "text": [
        " 0.819865840382\n",
        "0.405721607287"
       ]
      },
      {
       "output_type": "stream",
       "stream": "stdout",
       "text": [
        " 0.734341936699\n",
        "0.378807229638"
       ]
      },
      {
       "output_type": "stream",
       "stream": "stdout",
       "text": [
        " 0.747277955328\n",
        "0.524718248577"
       ]
      },
      {
       "output_type": "stream",
       "stream": "stdout",
       "text": [
        " 1.56363653476\n",
        "0.553682289733"
       ]
      },
      {
       "output_type": "stream",
       "stream": "stdout",
       "text": [
        " 1.01130731172\n",
        "0.604928022223"
       ]
      },
      {
       "output_type": "stream",
       "stream": "stdout",
       "text": [
        " 1.07670315094\n",
        "0.343731946722"
       ]
      },
      {
       "output_type": "stream",
       "stream": "stdout",
       "text": [
        " 0.936426190629\n",
        "0.56827038757"
       ]
      },
      {
       "output_type": "stream",
       "stream": "stdout",
       "text": [
        " 1.01205338439\n",
        "0.584823958834"
       ]
      },
      {
       "output_type": "stream",
       "stream": "stdout",
       "text": [
        " 1.01379926504\n",
        "0.621856351002"
       ]
      },
      {
       "output_type": "stream",
       "stream": "stdout",
       "text": [
        " 1.03263676779\n",
        "0.659968962625"
       ]
      },
      {
       "output_type": "stream",
       "stream": "stdout",
       "text": [
        " 1.05881227103\n",
        "0.713620450707"
       ]
      },
      {
       "output_type": "stream",
       "stream": "stdout",
       "text": [
        " 1.11678227692\n",
        "0.773990023786"
       ]
      },
      {
       "output_type": "stream",
       "stream": "stdout",
       "text": [
        " 1.18762506892\n",
        "0.843350924429"
       ]
      },
      {
       "output_type": "stream",
       "stream": "stdout",
       "text": [
        " 1.27379707911\n",
        "3.39603748499"
       ]
      },
      {
       "output_type": "stream",
       "stream": "stdout",
       "text": [
        " 3.15670425918\n",
        "1.08675114309"
       ]
      },
      {
       "output_type": "stream",
       "stream": "stdout",
       "text": [
        " 0.945337630434\n",
        "0.555128425329"
       ]
      },
      {
       "output_type": "stream",
       "stream": "stdout",
       "text": [
        " 0.549953775067\n",
        "0.414964082159"
       ]
      },
      {
       "output_type": "stream",
       "stream": "stdout",
       "text": [
        " 0.622757471233\n",
        "0.446209577469"
       ]
      },
      {
       "output_type": "stream",
       "stream": "stdout",
       "text": [
        " 0.570843813562\n",
        "0.394954575748"
       ]
      },
      {
       "output_type": "stream",
       "stream": "stdout",
       "text": [
        " 0.500790989511\n",
        "0.346607060972"
       ]
      },
      {
       "output_type": "stream",
       "stream": "stdout",
       "text": [
        " 0.798378452169\n",
        "0.377020151219"
       ]
      },
      {
       "output_type": "stream",
       "stream": "stdout",
       "text": [
        " 0.959394192564\n",
        "0.401904384036"
       ]
      },
      {
       "output_type": "stream",
       "stream": "stdout",
       "text": [
        " 0.61568022683\n",
        "0.325102089143"
       ]
      },
      {
       "output_type": "stream",
       "stream": "stdout",
       "text": [
        " 0.920760610586\n",
        "0.41242632262"
       ]
      },
      {
       "output_type": "stream",
       "stream": "stdout",
       "text": [
        " 0.75595036717\n",
        "0.343593190108"
       ]
      },
      {
       "output_type": "stream",
       "stream": "stdout",
       "text": [
        " 0.910378966128\n",
        "0.544332366436"
       ]
      },
      {
       "output_type": "stream",
       "stream": "stdout",
       "text": [
        " 0.962052369172\n",
        "0.559882810734"
       ]
      },
      {
       "output_type": "stream",
       "stream": "stdout",
       "text": [
        " 0.964425195792\n",
        "0.596291045078"
       ]
      },
      {
       "output_type": "stream",
       "stream": "stdout",
       "text": [
        " 0.983970502931\n",
        "0.635356971651"
       ]
      },
      {
       "output_type": "stream",
       "stream": "stdout",
       "text": [
        " 1.02082465917\n",
        "0.691824682746"
       ]
      },
      {
       "output_type": "stream",
       "stream": "stdout",
       "text": [
        " 1.08668734689\n",
        "0.755663028"
       ]
      },
      {
       "output_type": "stream",
       "stream": "stdout",
       "text": [
        " 1.16805246187\n",
        "0.829446761623"
       ]
      },
      {
       "output_type": "stream",
       "stream": "stdout",
       "text": [
        " 1.2629757852\n",
        "3.39134447341"
       ]
      },
      {
       "output_type": "stream",
       "stream": "stdout",
       "text": [
        " 3.10040327022\n",
        "1.09478637834"
       ]
      },
      {
       "output_type": "stream",
       "stream": "stdout",
       "text": [
        " 0.919030580064\n",
        "0.551874168658"
       ]
      },
      {
       "output_type": "stream",
       "stream": "stdout",
       "text": [
        " 0.669809723977\n",
        "0.403150285508"
       ]
      },
      {
       "output_type": "stream",
       "stream": "stdout",
       "text": [
        " 0.48047871635\n",
        "0.500823372855"
       ]
      },
      {
       "output_type": "stream",
       "stream": "stdout",
       "text": [
        " 0.655595556639\n",
        "0.369640398477"
       ]
      },
      {
       "output_type": "stream",
       "stream": "stdout",
       "text": [
        " 0.723773167904\n",
        "0.445242400658"
       ]
      },
      {
       "output_type": "stream",
       "stream": "stdout",
       "text": [
        " 0.739364268263\n",
        "0.309365496972"
       ]
      },
      {
       "output_type": "stream",
       "stream": "stdout",
       "text": [
        " 0.782281564017\n",
        "0.398875451896"
       ]
      },
      {
       "output_type": "stream",
       "stream": "stdout",
       "text": [
        " 0.812690439785\n",
        "0.338139012863"
       ]
      },
      {
       "output_type": "stream",
       "stream": "stdout",
       "text": [
        " 0.635753352157\n",
        "0.34558287653"
       ]
      },
      {
       "output_type": "stream",
       "stream": "stdout",
       "text": [
        " 0.910735439735\n",
        "0.525907951328"
       ]
      },
      {
       "output_type": "stream",
       "stream": "stdout",
       "text": [
        " 0.941833320555\n",
        "0.529874773104"
       ]
      },
      {
       "output_type": "stream",
       "stream": "stdout",
       "text": [
        " 0.936835170607\n",
        "0.540433380274"
       ]
      },
      {
       "output_type": "stream",
       "stream": "stdout",
       "text": [
        " 0.937857510014\n",
        "0.573641792725"
       ]
      },
      {
       "output_type": "stream",
       "stream": "stdout",
       "text": [
        " 0.949462731235\n",
        "0.611767564504"
       ]
      },
      {
       "output_type": "stream",
       "stream": "stdout",
       "text": [
        " 0.979323545542\n",
        "0.667291142769"
       ]
      },
      {
       "output_type": "stream",
       "stream": "stdout",
       "text": [
        " 1.04329722423\n",
        "0.731706784676"
       ]
      },
      {
       "output_type": "stream",
       "stream": "stdout",
       "text": [
        " 1.12749512837\n",
        "0.806750772501"
       ]
      },
      {
       "output_type": "stream",
       "stream": "stdout",
       "text": [
        " 1.2274524831\n",
        "3.39109764604"
       ]
      },
      {
       "output_type": "stream",
       "stream": "stdout",
       "text": [
        " 3.14508247166\n",
        "1.11148611282"
       ]
      },
      {
       "output_type": "stream",
       "stream": "stdout",
       "text": [
        " 0.919279239707\n",
        "0.556895687792"
       ]
      },
      {
       "output_type": "stream",
       "stream": "stdout",
       "text": [
        " 0.677301264936\n",
        "0.400009907982"
       ]
      },
      {
       "output_type": "stream",
       "stream": "stdout",
       "text": [
        " 0.614700995062\n",
        "0.542285065433"
       ]
      },
      {
       "output_type": "stream",
       "stream": "stdout",
       "text": [
        " 0.936291999637\n",
        "0.414939336842"
       ]
      },
      {
       "output_type": "stream",
       "stream": "stdout",
       "text": [
        " 0.629742813815\n",
        "0.398959171902"
       ]
      },
      {
       "output_type": "stream",
       "stream": "stdout",
       "text": [
        " 0.760466659119\n",
        "0.330643186788"
       ]
      },
      {
       "output_type": "stream",
       "stream": "stdout",
       "text": [
        " 0.767029869378\n",
        "0.340590061359"
       ]
      },
      {
       "output_type": "stream",
       "stream": "stdout",
       "text": [
        " 1.02157159462\n",
        "0.524333636278"
       ]
      },
      {
       "output_type": "stream",
       "stream": "stdout",
       "text": [
        " 0.931143279665\n",
        "0.364137119647"
       ]
      },
      {
       "output_type": "stream",
       "stream": "stdout",
       "text": [
        " 0.629382298065\n",
        "0.393064300836"
       ]
      },
      {
       "output_type": "stream",
       "stream": "stdout",
       "text": [
        " 0.752179251498\n",
        "0.521707626583"
       ]
      },
      {
       "output_type": "stream",
       "stream": "stdout",
       "text": [
        " 0.920207166321\n",
        "0.529677881208"
       ]
      },
      {
       "output_type": "stream",
       "stream": "stdout",
       "text": [
        " 0.917075089524\n",
        "0.553619259029"
       ]
      },
      {
       "output_type": "stream",
       "stream": "stdout",
       "text": [
        " 0.921730445412\n",
        "0.588790575769"
       ]
      },
      {
       "output_type": "stream",
       "stream": "stdout",
       "text": [
        " 0.93955557619\n",
        "0.641706792691"
       ]
      },
      {
       "output_type": "stream",
       "stream": "stdout",
       "text": [
        " 0.986590994138\n",
        "0.70540922247"
       ]
      },
      {
       "output_type": "stream",
       "stream": "stdout",
       "text": [
        " 1.06490712635\n",
        "0.781430537288"
       ]
      },
      {
       "output_type": "stream",
       "stream": "stdout",
       "text": [
        " 1.16825827069\n",
        "3.38612026857"
       ]
      },
      {
       "output_type": "stream",
       "stream": "stdout",
       "text": [
        " 3.12169031305\n",
        "1.09318147792"
       ]
      },
      {
       "output_type": "stream",
       "stream": "stdout",
       "text": [
        " 0.847315568907\n",
        "0.543857767668"
       ]
      },
      {
       "output_type": "stream",
       "stream": "stdout",
       "text": [
        " 0.94490297722\n",
        "0.398189670814"
       ]
      },
      {
       "output_type": "stream",
       "stream": "stdout",
       "text": [
        " 0.564027554328\n",
        "0.527261362634"
       ]
      },
      {
       "output_type": "stream",
       "stream": "stdout",
       "text": [
        " 0.858803133151\n",
        "0.406596241688"
       ]
      },
      {
       "output_type": "stream",
       "stream": "stdout",
       "text": [
        " 0.720891980007\n",
        "0.371160484651"
       ]
      },
      {
       "output_type": "stream",
       "stream": "stdout",
       "text": [
        " 0.951239546625\n",
        "0.317096613486"
       ]
      },
      {
       "output_type": "stream",
       "stream": "stdout",
       "text": [
        " 0.866477501177\n",
        "0.345241918382"
       ]
      },
      {
       "output_type": "stream",
       "stream": "stdout",
       "text": [
        " 0.818567446033\n",
        "0.32375127966"
       ]
      },
      {
       "output_type": "stream",
       "stream": "stdout",
       "text": [
        " 1.17214849799\n",
        "0.517676791948"
       ]
      },
      {
       "output_type": "stream",
       "stream": "stdout",
       "text": [
        " 0.93630460532\n",
        "0.320306304695"
       ]
      },
      {
       "output_type": "stream",
       "stream": "stdout",
       "text": [
        " 0.800333242689\n",
        "0.478852921431"
       ]
      },
      {
       "output_type": "stream",
       "stream": "stdout",
       "text": [
        " 0.873002109216\n",
        "0.522027295698"
       ]
      },
      {
       "output_type": "stream",
       "stream": "stdout",
       "text": [
        " 0.929851178639\n",
        "0.533005618211"
       ]
      },
      {
       "output_type": "stream",
       "stream": "stdout",
       "text": [
        " 0.93214795659\n",
        "0.559125638669"
       ]
      },
      {
       "output_type": "stream",
       "stream": "stdout",
       "text": [
        " 0.9430017974\n",
        "0.606924235057"
       ]
      },
      {
       "output_type": "stream",
       "stream": "stdout",
       "text": [
        " 0.978194765879\n",
        "0.667865207241"
       ]
      },
      {
       "output_type": "stream",
       "stream": "stdout",
       "text": [
        " 1.04046561694\n",
        "0.74186717107"
       ]
      },
      {
       "output_type": "stream",
       "stream": "stdout",
       "text": [
        " 1.13910524997\n",
        "3.38840481192"
       ]
      },
      {
       "output_type": "stream",
       "stream": "stdout",
       "text": [
        " 3.12002624979\n",
        "1.09052737531"
       ]
      },
      {
       "output_type": "stream",
       "stream": "stdout",
       "text": [
        " 0.920418469013\n",
        "0.56059967971"
       ]
      },
      {
       "output_type": "stream",
       "stream": "stdout",
       "text": [
        " 0.653091212594\n",
        "0.406873930908"
       ]
      },
      {
       "output_type": "stream",
       "stream": "stdout",
       "text": [
        " 0.684890554415\n",
        "0.432863338348"
       ]
      },
      {
       "output_type": "stream",
       "stream": "stdout",
       "text": [
        " 0.761110502163\n",
        "0.401564143665"
       ]
      },
      {
       "output_type": "stream",
       "stream": "stdout",
       "text": [
        " 0.640216096278\n",
        "0.486304599493"
       ]
      },
      {
       "output_type": "stream",
       "stream": "stdout",
       "text": [
        " 0.77271084952\n",
        "0.533095167374"
       ]
      },
      {
       "output_type": "stream",
       "stream": "stdout",
       "text": [
        " 1.51512967856\n",
        "0.450058958882"
       ]
      },
      {
       "output_type": "stream",
       "stream": "stdout",
       "text": [
        " 1.10135572154\n",
        "0.406819177775"
       ]
      },
      {
       "output_type": "stream",
       "stream": "stdout",
       "text": [
        " 0.714595647821\n",
        "0.501832380136"
       ]
      },
      {
       "output_type": "stream",
       "stream": "stdout",
       "text": [
        " 0.928078978962\n",
        "0.498688640956"
       ]
      },
      {
       "output_type": "stream",
       "stream": "stdout",
       "text": [
        " 0.926897658914\n",
        "0.499008118604"
       ]
      },
      {
       "output_type": "stream",
       "stream": "stdout",
       "text": [
        " 0.925337877894\n",
        "0.504833050329"
       ]
      },
      {
       "output_type": "stream",
       "stream": "stdout",
       "text": [
        " 0.929431300799\n",
        "0.511547855407"
       ]
      },
      {
       "output_type": "stream",
       "stream": "stdout",
       "text": [
        " 0.933850350945\n",
        "0.529561824072"
       ]
      },
      {
       "output_type": "stream",
       "stream": "stdout",
       "text": [
        " 0.947885004644\n",
        "0.564585190825"
       ]
      },
      {
       "output_type": "stream",
       "stream": "stdout",
       "text": [
        " 0.988865471114\n",
        "0.622779082544"
       ]
      },
      {
       "output_type": "stream",
       "stream": "stdout",
       "text": [
        " 1.06203907693\n",
        "0.69662966074"
       ]
      },
      {
       "output_type": "stream",
       "stream": "stdout",
       "text": [
        " 1.15868149756\n",
        "3.38776979616"
       ]
      },
      {
       "output_type": "stream",
       "stream": "stdout",
       "text": [
        " 3.07881600204\n",
        "1.0843117655"
       ]
      },
      {
       "output_type": "stream",
       "stream": "stdout",
       "text": [
        " 0.984183566125\n",
        "0.559755344528"
       ]
      },
      {
       "output_type": "stream",
       "stream": "stdout",
       "text": [
        " 0.731970743531\n",
        "0.425638804609"
       ]
      },
      {
       "output_type": "stream",
       "stream": "stdout",
       "text": [
        " 0.532246623057\n",
        "0.504846482667"
       ]
      },
      {
       "output_type": "stream",
       "stream": "stdout",
       "text": [
        " 0.900257255178\n",
        "0.41051287189"
       ]
      },
      {
       "output_type": "stream",
       "stream": "stdout",
       "text": [
        " 0.635531338236\n",
        "0.332148562984"
       ]
      },
      {
       "output_type": "stream",
       "stream": "stdout",
       "text": [
        " 0.854253867582\n",
        "0.512762777849"
       ]
      },
      {
       "output_type": "stream",
       "stream": "stdout",
       "text": [
        " 0.96676533695\n",
        "0.391866485977"
       ]
      },
      {
       "output_type": "stream",
       "stream": "stdout",
       "text": [
        " 0.966305019622\n",
        "0.4657464961"
       ]
      },
      {
       "output_type": "stream",
       "stream": "stdout",
       "text": [
        " 0.834521238012\n",
        "0.499286996088"
       ]
      },
      {
       "output_type": "stream",
       "stream": "stdout",
       "text": [
        " 0.972327321066\n",
        "0.494608751713"
       ]
      },
      {
       "output_type": "stream",
       "stream": "stdout",
       "text": [
        " 0.971778151056\n",
        "0.491226774897"
       ]
      },
      {
       "output_type": "stream",
       "stream": "stdout",
       "text": [
        " 0.968929971175\n",
        "0.496412371676"
       ]
      },
      {
       "output_type": "stream",
       "stream": "stdout",
       "text": [
        " 0.969748521842\n",
        "0.497640865082"
       ]
      },
      {
       "output_type": "stream",
       "stream": "stdout",
       "text": [
        " 0.971018630379\n",
        "0.508740502346"
       ]
      },
      {
       "output_type": "stream",
       "stream": "stdout",
       "text": [
        " 0.973718166624\n",
        "0.532021360533"
       ]
      },
      {
       "output_type": "stream",
       "stream": "stdout",
       "text": [
        " 0.993148454195\n",
        "0.574621876705"
       ]
      },
      {
       "output_type": "stream",
       "stream": "stdout",
       "text": [
        " 1.03461125083\n",
        "0.641536642962"
       ]
      },
      {
       "output_type": "stream",
       "stream": "stdout",
       "text": [
        " 1.10341875629\n",
        "3.38898199607"
       ]
      },
      {
       "output_type": "stream",
       "stream": "stdout",
       "text": [
        " 3.07767824422\n",
        "1.09040133176"
       ]
      },
      {
       "output_type": "stream",
       "stream": "stdout",
       "text": [
        " 0.991415137346\n",
        "0.549382672086"
       ]
      },
      {
       "output_type": "stream",
       "stream": "stdout",
       "text": [
        " 0.800637120361\n",
        "0.408950330522"
       ]
      },
      {
       "output_type": "stream",
       "stream": "stdout",
       "text": [
        " 0.644563126077\n",
        "0.570145035079"
       ]
      },
      {
       "output_type": "stream",
       "stream": "stdout",
       "text": [
        " 0.862656500143\n",
        "0.412880167774"
       ]
      },
      {
       "output_type": "stream",
       "stream": "stdout",
       "text": [
        " 0.677793481935\n",
        "0.51481805342"
       ]
      },
      {
       "output_type": "stream",
       "stream": "stdout",
       "text": [
        " 1.04311613594\n",
        "0.50999041233"
       ]
      },
      {
       "output_type": "stream",
       "stream": "stdout",
       "text": [
        " 0.963042513512\n",
        "0.502716501928"
       ]
      },
      {
       "output_type": "stream",
       "stream": "stdout",
       "text": [
        " 0.958021360491\n",
        "0.502959800378"
       ]
      },
      {
       "output_type": "stream",
       "stream": "stdout",
       "text": [
        " 0.963953355796\n",
        "0.497420628615"
       ]
      },
      {
       "output_type": "stream",
       "stream": "stdout",
       "text": [
        " 0.952757255104\n",
        "0.492776958937"
       ]
      },
      {
       "output_type": "stream",
       "stream": "stdout",
       "text": [
        " 0.953623277917\n",
        "0.489007425661"
       ]
      },
      {
       "output_type": "stream",
       "stream": "stdout",
       "text": [
        " 0.949617657466\n",
        "0.491845851235"
       ]
      },
      {
       "output_type": "stream",
       "stream": "stdout",
       "text": [
        " 0.996969532667\n",
        "0.491623014678"
       ]
      },
      {
       "output_type": "stream",
       "stream": "stdout",
       "text": [
        " 0.995964421335\n",
        "0.495132479422"
       ]
      },
      {
       "output_type": "stream",
       "stream": "stdout",
       "text": [
        " 0.999668118852\n",
        "0.512751383052"
       ]
      },
      {
       "output_type": "stream",
       "stream": "stdout",
       "text": [
        " 1.02523724442\n",
        "0.542633083483"
       ]
      },
      {
       "output_type": "stream",
       "stream": "stdout",
       "text": [
        " 1.06855090046\n",
        "0.604123647654"
       ]
      },
      {
       "output_type": "stream",
       "stream": "stdout",
       "text": [
        " 1.15618549161\n",
        "3.38766718044"
       ]
      },
      {
       "output_type": "stream",
       "stream": "stdout",
       "text": [
        " 3.1736047731\n",
        "1.08215100078"
       ]
      },
      {
       "output_type": "stream",
       "stream": "stdout",
       "text": [
        " 1.01535919525\n",
        "0.557546588129"
       ]
      },
      {
       "output_type": "stream",
       "stream": "stdout",
       "text": [
        " 0.903138859018\n",
        "0.400761588791"
       ]
      },
      {
       "output_type": "stream",
       "stream": "stdout",
       "text": [
        " 0.583249385001\n",
        "0.528620915647"
       ]
      },
      {
       "output_type": "stream",
       "stream": "stdout",
       "text": [
        " 0.889917161104\n",
        "0.392882601202"
       ]
      },
      {
       "output_type": "stream",
       "stream": "stdout",
       "text": [
        " 0.693256546449\n",
        "0.479466018995"
       ]
      },
      {
       "output_type": "stream",
       "stream": "stdout",
       "text": [
        " 0.90854435733\n",
        "0.503826139793"
       ]
      },
      {
       "output_type": "stream",
       "stream": "stdout",
       "text": [
        " 0.949617802683\n",
        "0.497052751908"
       ]
      },
      {
       "output_type": "stream",
       "stream": "stdout",
       "text": [
        " 0.939690022911\n",
        "0.497249670252"
       ]
      },
      {
       "output_type": "stream",
       "stream": "stdout",
       "text": [
        " 0.947694385865\n",
        "0.491527797827"
       ]
      },
      {
       "output_type": "stream",
       "stream": "stdout",
       "text": [
        " 0.936895090755\n",
        "0.48642943854"
       ]
      },
      {
       "output_type": "stream",
       "stream": "stdout",
       "text": [
        " 0.934788120921\n",
        "0.482530730258"
       ]
      },
      {
       "output_type": "stream",
       "stream": "stdout",
       "text": [
        " 0.927713941373\n",
        "0.485016593013"
       ]
      },
      {
       "output_type": "stream",
       "stream": "stdout",
       "text": [
        " 0.992880500695\n",
        "0.4840194798"
       ]
      },
      {
       "output_type": "stream",
       "stream": "stdout",
       "text": [
        " 0.990910831476\n",
        "0.485349748623"
       ]
      },
      {
       "output_type": "stream",
       "stream": "stdout",
       "text": [
        " 0.994435715023\n",
        "0.492002144379"
       ]
      },
      {
       "output_type": "stream",
       "stream": "stdout",
       "text": [
        " 1.0052302435\n",
        "0.500171566685"
       ]
      },
      {
       "output_type": "stream",
       "stream": "stdout",
       "text": [
        " 1.01821439811\n",
        "0.538739325858"
       ]
      },
      {
       "output_type": "stream",
       "stream": "stdout",
       "text": [
        " 1.08179014802\n",
        "3.3868588396"
       ]
      },
      {
       "output_type": "stream",
       "stream": "stdout",
       "text": [
        " 3.10883035408\n",
        "1.09556131378"
       ]
      },
      {
       "output_type": "stream",
       "stream": "stdout",
       "text": [
        " 1.05387770575\n",
        "0.616171471886"
       ]
      },
      {
       "output_type": "stream",
       "stream": "stdout",
       "text": [
        " 1.07202072617\n",
        "0.423759572518"
       ]
      },
      {
       "output_type": "stream",
       "stream": "stdout",
       "text": [
        " 0.592867754258\n",
        "0.633495888667"
       ]
      },
      {
       "output_type": "stream",
       "stream": "stdout",
       "text": [
        " 1.24519590637\n",
        "0.441700251463"
       ]
      },
      {
       "output_type": "stream",
       "stream": "stdout",
       "text": [
        " 0.893783450714\n",
        "0.505940649905"
       ]
      },
      {
       "output_type": "stream",
       "stream": "stdout",
       "text": [
        " 1.05678927344\n",
        "0.318940956201"
       ]
      },
      {
       "output_type": "stream",
       "stream": "stdout",
       "text": [
        " 0.897636428291\n",
        "0.494348502582"
       ]
      },
      {
       "output_type": "stream",
       "stream": "stdout",
       "text": [
        " 0.998499943181\n",
        "0.495396494493"
       ]
      },
      {
       "output_type": "stream",
       "stream": "stdout",
       "text": [
        " 1.00531076033\n",
        "0.489386209458"
       ]
      },
      {
       "output_type": "stream",
       "stream": "stdout",
       "text": [
        " 0.993487093574\n",
        "0.484524723861"
       ]
      },
      {
       "output_type": "stream",
       "stream": "stdout",
       "text": [
        " 0.991599884683\n",
        "0.480455336525"
       ]
      },
      {
       "output_type": "stream",
       "stream": "stdout",
       "text": [
        " 0.982419787923\n",
        "0.482916227195"
       ]
      },
      {
       "output_type": "stream",
       "stream": "stdout",
       "text": [
        " 1.06355918172\n",
        "0.481773847379"
       ]
      },
      {
       "output_type": "stream",
       "stream": "stdout",
       "text": [
        " 1.05982865289\n",
        "0.48279115444"
       ]
      },
      {
       "output_type": "stream",
       "stream": "stdout",
       "text": [
        " 1.080678923\n",
        "0.487066402235"
       ]
      },
      {
       "output_type": "stream",
       "stream": "stdout",
       "text": [
        " 1.08755889884\n",
        "0.491096802236"
       ]
      },
      {
       "output_type": "stream",
       "stream": "stdout",
       "text": [
        " 1.09476490075\n",
        "0.495025951883"
       ]
      },
      {
       "output_type": "stream",
       "stream": "stdout",
       "text": [
        " 1.10197407183\n"
       ]
      }
     ],
     "prompt_number": 18
    },
    {
     "cell_type": "code",
     "collapsed": false,
     "input": [
      "a, b = zip(*[[5.76012571907, 8.79652855301], [4.60560257647, 6.30141200316], [4.48519692051, 6.28112887919], [4.49090194867, 5.92486103013], [4.5971155244, 6.26301234327], [4.52095260316, 6.30359780555], [4.66116434398, 7.10091157106], [4.59913395432, 6.20927191495], [4.58695827828, 6.16259840223], [4.6622249449, 7.12986337068], [4.66350879289, 7.13174356039], [4.66373811954, 7.13148855522], [4.6641318472, 7.13127443642], [4.66491888233, 7.13121283599], [4.66682285629, 7.12970201379], [4.66840722533, 7.12887669307], [4.67055371002, 7.1293078055], [4.67278041286, 7.13075319741], [4.67525922889, 7.13304734421], [3.49193424505, 3.39008864106], [1.78774413888, 2.72411629662], [1.57048865566, 2.25394809355], [1.46137648808, 2.6488964508], [1.4555853879, 2.46713429529], [1.54292736174, 2.47889932127], [1.9476027279, 1.89976823971], [1.38258946129, 2.2496337589], [1.90828988037, 2.57836473023], [1.60642615563, 2.70897485656], [1.68132885085, 2.36747567094], [2.34245925757, 3.29862180101], [1.57636544916, 2.04273848414], [1.54086423757, 2.24661748407], [1.59318948228, 2.12422480864], [1.75387780826, 2.29612291836], [1.84128039259, 2.47153970116], [1.81450396985, 2.14229267547], [1.88497150182, 2.20396178852], [3.38834567971, 3.12864439118], [1.27357961948, 1.46223526224], [0.919971056079, 1.59509292546], [0.776711661654, 1.37476078145], [0.816444115072, 1.82774406131], [0.717526448433, 1.40033332573], [0.828400869761, 1.65852604541], [0.953334470294, 1.55598082608], [1.33792459871, 1.70123136586], [1.16215840777, 1.8051054524], [1.28719092222, 1.90784325313], [1.14037006027, 1.83650694835], [1.43395355671, 2.39692894502], [1.12683767691, 1.65284315766], [2.04074095524, 3.17676927959], [1.22381131731, 2.98549133253], [1.32552915107, 2.00298092184], [1.27913505623, 1.60680765182], [1.60297350494, 2.31840264367], [3.39476584421, 3.16092955817], [1.153990195, 1.51070080555], [0.828002493268, 1.52059774901], [0.638331173442, 1.13985184229], [0.642648785254, 1.74041361095], [0.749896058633, 0.995857738408], [0.801505549665, 1.29912786008], [0.671657308435, 1.2284283974], [0.846620622856, 1.34244517683], [0.900616872835, 1.53386487611], [1.07320690576, 1.57925665494], [1.2096190938, 1.89722707911], [0.944871553063, 1.42213547656], [0.867515439441, 1.34098492606], [1.57883045063, 1.72040352526], [0.921174588257, 1.6727705235], [1.22642547429, 1.58323174296], [1.26617975504, 1.61458640663], [1.31106745102, 1.65036150339], [3.39520521801, 3.56502042942], [1.17244380089, 1.11601671842], [0.714010107553, 1.13413072928], [0.582883249747, 1.00990731489], [0.670105321729, 1.2559950829], [0.612675503767, 0.791264328563], [0.609508032723, 1.0885549071], [0.60149504166, 1.16280694103], [0.782888166033, 1.27641679541], [0.777696530828, 1.30042789545], [0.89858206467, 1.32522440308], [0.559663600344, 0.930785117247], [0.742021815644, 1.09715665435], [0.90343916783, 1.45380727762], [1.00391401694, 1.36239094517], [1.03677326484, 1.38665690244], [1.0795809025, 1.42526999662], [1.12531517426, 1.47211341751], [1.17817162991, 1.53155679754], [3.3920351835, 3.17568456762], [1.08784274478, 1.08140728034], [0.642212239632, 0.81322862779], [0.502944896076, 0.651109923628], [0.586270342633, 0.862008153863], [0.548711706546, 0.801214602314], [0.650774096284, 0.886257389274], [0.378008827625, 0.898110891327], [0.495700418102, 1.12577272891], [0.695371146595, 1.13998460205], [0.795162206675, 1.0261473935], [0.715502734969, 1.13546844928], [0.638716369135, 1.3055918922], [0.851536309221, 1.18566563448], [0.883899705099, 1.20734613232], [0.915195999857, 1.23211949793], [0.956481047377, 1.26901521169], [1.00284022891, 1.31469167974], [1.05539617679, 1.3770009323], [3.38671913034, 3.10542515278], [1.08626798436, 1.01289280793], [0.573637404674, 0.612793419009], [0.423407945028, 0.743409530498], [0.510100072131, 0.870826223996], [0.411514194194, 0.667030574637], [0.420881178116, 0.699514424207], [0.453718939172, 0.724700115432], [0.5416612492, 0.743612445887], [0.416930224031, 0.638647108073], [0.66914478616, 1.00792218684], [0.592465375114, 1.0443656963], [0.689644236489, 1.03003132599], [0.707108505866, 1.0499646759], [0.743536453139, 1.0892696765], [0.779000247377, 1.13140792385], [0.826787169324, 1.19090378472], [0.879045681955, 1.25536561113], [0.939078422065, 1.33050494211], [3.39099278846, 3.13629714453], [1.08958712694, 0.888255288231], [0.578960976554, 0.726596790322], [0.410732665179, 0.548969713419], [0.50523207299, 0.686117077275], [0.402761130362, 0.661252194161], [0.360816254531, 0.659907772444], [0.428458717504, 0.806541446578], [0.43393375444, 0.768194329395], [0.315873858951, 0.544724498322], [0.391184077321, 0.922274189471], [0.381481838904, 0.674606220186], [0.643157103736, 0.935636645533], [0.659805933133, 0.951314005705], [0.695820814003, 0.991472011734], [0.731445930309, 1.03595333901], [0.779996103576, 1.10122097169], [0.833892719547, 1.1740112178], [0.895010181462, 1.25403013004], [3.38664741595, 3.08428689062], [1.09587173914, 0.904320755559], [0.564862997741, 0.664687711752], [0.415661354354, 0.625721246671], [0.47190808983, 0.578443734949], [0.412815471251, 0.599238723581], [0.354298705968, 0.672648054858], [0.424133965123, 0.687138132389], [0.317509442602, 0.813021876215], [0.341747688851, 0.641368596154], [0.424071992176, 0.568801403861], [0.376570361681, 0.880794407218], [0.353273141431, 0.711061320032], [0.602045408191, 1.04233014388], [0.63705321196, 1.06094912584], [0.672786522323, 1.09266640748], [0.722617147638, 1.14338524482], [0.778632627398, 1.20549932188], [0.842255894396, 1.28058921853], [3.38834248198, 3.1211393927], [1.08629763131, 0.925035142565], [0.566840037911, 0.807000331471], [0.429827259735, 0.513133788201], [0.480661012797, 0.563851798625], [0.392768842236, 0.819865840382], [0.405721607287, 0.734341936699], [0.378807229638, 0.747277955328], [0.524718248577, 1.56363653476], [0.553682289733, 1.01130731172], [0.604928022223, 1.07670315094], [0.343731946722, 0.936426190629], [0.56827038757, 1.01205338439], [0.584823958834, 1.01379926504], [0.621856351002, 1.03263676779], [0.659968962625, 1.05881227103], [0.713620450707, 1.11678227692], [0.773990023786, 1.18762506892], [0.843350924429, 1.27379707911], [3.39603748499, 3.15670425918], [1.08675114309, 0.945337630434], [0.555128425329, 0.549953775067], [0.414964082159, 0.622757471233], [0.446209577469, 0.570843813562], [0.394954575748, 0.500790989511], [0.346607060972, 0.798378452169], [0.377020151219, 0.959394192564], [0.401904384036, 0.61568022683], [0.325102089143, 0.920760610586], [0.41242632262, 0.75595036717], [0.343593190108, 0.910378966128], [0.544332366436, 0.962052369172], [0.559882810734, 0.964425195792], [0.596291045078, 0.983970502931], [0.635356971651, 1.02082465917], [0.691824682746, 1.08668734689], [0.755663028, 1.16805246187], [0.829446761623, 1.2629757852], [3.39134447341, 3.10040327022], [1.09478637834, 0.919030580064], [0.551874168658, 0.669809723977], [0.403150285508, 0.48047871635], [0.500823372855, 0.655595556639], [0.369640398477, 0.723773167904], [0.445242400658, 0.739364268263], [0.309365496972, 0.782281564017], [0.398875451896, 0.812690439785], [0.338139012863, 0.635753352157], [0.34558287653, 0.910735439735], [0.525907951328, 0.941833320555], [0.529874773104, 0.936835170607], [0.540433380274, 0.937857510014], [0.573641792725, 0.949462731235], [0.611767564504, 0.979323545542], [0.667291142769, 1.04329722423], [0.731706784676, 1.12749512837], [0.806750772501, 1.2274524831], [3.39109764604, 3.14508247166], [1.11148611282, 0.919279239707], [0.556895687792, 0.677301264936], [0.400009907982, 0.614700995062], [0.542285065433, 0.936291999637], [0.414939336842, 0.629742813815], [0.398959171902, 0.760466659119], [0.330643186788, 0.767029869378], [0.340590061359, 1.02157159462], [0.524333636278, 0.931143279665], [0.364137119647, 0.629382298065], [0.393064300836, 0.752179251498], [0.521707626583, 0.920207166321], [0.529677881208, 0.917075089524], [0.553619259029, 0.921730445412], [0.588790575769, 0.93955557619], [0.641706792691, 0.986590994138], [0.70540922247, 1.06490712635], [0.781430537288, 1.16825827069], [3.38612026857, 3.12169031305], [1.09318147792, 0.847315568907], [0.543857767668, 0.94490297722], [0.398189670814, 0.564027554328], [0.527261362634, 0.858803133151], [0.406596241688, 0.720891980007], [0.371160484651, 0.951239546625], [0.317096613486, 0.866477501177], [0.345241918382, 0.818567446033], [0.32375127966, 1.17214849799], [0.517676791948, 0.93630460532], [0.320306304695, 0.800333242689], [0.478852921431, 0.873002109216], [0.522027295698, 0.929851178639], [0.533005618211, 0.93214795659], [0.559125638669, 0.9430017974], [0.606924235057, 0.978194765879], [0.667865207241, 1.04046561694], [0.74186717107, 1.13910524997], [3.38840481192, 3.12002624979], [1.09052737531, 0.920418469013], [0.56059967971, 0.653091212594], [0.406873930908, 0.684890554415], [0.432863338348, 0.761110502163], [0.401564143665, 0.640216096278], [0.486304599493, 0.77271084952], [0.533095167374, 1.51512967856], [0.450058958882, 1.10135572154], [0.406819177775, 0.714595647821], [0.501832380136, 0.928078978962], [0.498688640956, 0.926897658914], [0.499008118604, 0.925337877894], [0.504833050329, 0.929431300799], [0.511547855407, 0.933850350945], [0.529561824072, 0.947885004644], [0.564585190825, 0.988865471114], [0.622779082544, 1.06203907693], [0.69662966074, 1.15868149756], [3.38776979616, 3.07881600204], [1.0843117655, 0.984183566125], [0.559755344528, 0.731970743531], [0.425638804609, 0.532246623057], [0.504846482667, 0.900257255178], [0.41051287189, 0.635531338236], [0.332148562984, 0.854253867582], [0.512762777849, 0.96676533695], [0.391866485977, 0.966305019622], [0.4657464961, 0.834521238012], [0.499286996088, 0.972327321066], [0.494608751713, 0.971778151056], [0.491226774897, 0.968929971175], [0.496412371676, 0.969748521842], [0.497640865082, 0.971018630379], [0.508740502346, 0.973718166624], [0.532021360533, 0.993148454195], [0.574621876705, 1.03461125083], [0.641536642962, 1.10341875629], [3.38898199607, 3.07767824422], [1.09040133176, 0.991415137346], [0.549382672086, 0.800637120361], [0.408950330522, 0.644563126077], [0.570145035079, 0.862656500143], [0.412880167774, 0.677793481935], [0.51481805342, 1.04311613594], [0.50999041233, 0.963042513512], [0.502716501928, 0.958021360491], [0.502959800378, 0.963953355796], [0.497420628615, 0.952757255104], [0.492776958937, 0.953623277917], [0.489007425661, 0.949617657466], [0.491845851235, 0.996969532667], [0.491623014678, 0.995964421335], [0.495132479422, 0.999668118852], [0.512751383052, 1.02523724442], [0.542633083483, 1.06855090046], [0.604123647654, 1.15618549161], [3.38766718044, 3.1736047731], [1.08215100078, 1.01535919525], [0.557546588129, 0.903138859018], [0.400761588791, 0.583249385001], [0.528620915647, 0.889917161104], [0.392882601202, 0.693256546449], [0.479466018995, 0.90854435733], [0.503826139793, 0.949617802683], [0.497052751908, 0.939690022911], [0.497249670252, 0.947694385865], [0.491527797827, 0.936895090755], [0.48642943854, 0.934788120921], [0.482530730258, 0.927713941373], [0.485016593013, 0.992880500695], [0.4840194798, 0.990910831476], [0.485349748623, 0.994435715023], [0.492002144379, 1.0052302435], [0.500171566685, 1.01821439811], [0.538739325858, 1.08179014802], [3.3868588396, 3.10883035408], [1.09556131378, 1.05387770575], [0.616171471886, 1.07202072617], [0.423759572518, 0.592867754258], [0.633495888667, 1.24519590637], [0.441700251463, 0.893783450714], [0.505940649905, 1.05678927344], [0.318940956201, 0.897636428291], [0.494348502582, 0.998499943181], [0.495396494493, 1.00531076033], [0.489386209458, 0.993487093574], [0.484524723861, 0.991599884683], [0.480455336525, 0.982419787923], [0.482916227195, 1.06355918172], [0.481773847379, 1.05982865289], [0.48279115444, 1.080678923], [0.487066402235, 1.08755889884], [0.491096802236, 1.09476490075], [0.495025951883, 1.10197407183]])\n",
      "                                                                                                                                                                                                                                                                                                                                                                                                                                                                                                                                                                                                                                                                                                                                                                                                                                                                                                                                                                                                                                                                                                                                                                                                                                                                                                                                                                                                                                                                                                                                                                                                                                                                                                                                                                                                                                                                                                                                                                                                                                                                                                                                                                                                                                                                                                                                                                                                                                                                                                                                                                                                                                                                                                                                                                                                                                                                                                                                                                                                                                                                                                                                                                                                                                                                                                                                                                                                                                                                                                                                                                                                                                                                                                                                                                                                                                                                                                                                                                                                                                                                                                                                                                                                                                                                                                                                                                                                                                                                                                                                                                                                                                                                                                                                                                                                                                                                                                                                                                                                                                                                                                                                                                                                                                                                                                                                                                                                                                                                                                                                                                                                                                                                                                                                                                                                                                                                                                                                                                                                                                                                                                                                                                                                                                                                                                                                                                                                                                                                                                                                                                                                                                                                                                                                                                                                                                                                                                                                                                                                                                                                                                                                                                                                                                                                                                                                                                                                                                                                                                                                                                                                                                                                                                                                                                                                                                                                                                                                                                                                                                                                                                                                                                                                                                                                                                                                                                                                                                                                                                                                                                                                                                                                                                                                                                                                                                                                                                                                                                                                                                                                                                                                                                                                                                                                                                                                                                                                                                                                                                                                                                                                                                                                                                                                                                                                                                                                                                                                                                                                                                                                                                                                                                                                                                                                                                                                    "
     ],
     "language": "python",
     "metadata": {},
     "outputs": [],
     "prompt_number": 12
    },
    {
     "cell_type": "code",
     "collapsed": false,
     "input": [
      "heatmap_train=list(a)[:]\n",
      "heatmap_test=list(b)[:]"
     ],
     "language": "python",
     "metadata": {},
     "outputs": [],
     "prompt_number": 14
    },
    {
     "cell_type": "markdown",
     "metadata": {},
     "source": [
      "---\n",
      "## 7) Optional\n",
      "\n",
      "TODO:\n",
      "\n",
      "* Change *GTApprox/Technique* option\n",
      "* Exchange inputs and outputs"
     ]
    },
    {
     "cell_type": "code",
     "collapsed": false,
     "input": [],
     "language": "python",
     "metadata": {},
     "outputs": []
    }
   ],
   "metadata": {}
  }
 ]
}